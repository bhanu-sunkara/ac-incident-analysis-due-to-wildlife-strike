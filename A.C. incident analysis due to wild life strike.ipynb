{
 "cells": [
  {
   "cell_type": "markdown",
   "metadata": {},
   "source": [
    "## Data Science Pipeline\n",
    "     1. Understand the problem\n",
    "     2. Quick glance of the data\n",
    "     3. Descriptive statistics\n",
    "         a. what types of aircrafts are involved in bird strikes?\n",
    "         b. What kinds of birds are involved in bird strikes?\n",
    "         c. What are the flight statuses during bird strikes?\n",
    "         d. What are the geological locations of bird strikes?\n",
    "         e. What times do bird strikes occur?\n",
    "         f. What are the consequences of bird strikes?\n",
    "     4. Inferential Statistics\n",
    "         a. Logistic Regression\n",
    "         b. Support Vector Machines\n",
    "         c. Random Forests\n",
    "         d. K-Nearest Neighbors\n",
    "         e. Gaussian Naive Bayes\n",
    "     5. Model Summary\n",
    "        a. Correlation Coefficients\n",
    "     6. Conclusions and Suggestions     "
   ]
  },
  {
   "cell_type": "markdown",
   "metadata": {},
   "source": [
    "### 1. Understand the problem\n",
    "Wild life Strike(bird/bats/ground animals) is common and can be a significant threat to aircraft safety. With the increase in the airtraffic the number of incidents recording also increasing significantly.  For smaller aircraft, significant damage may be caused to the aircraft structure and all aircraft, especially jet-engined ones, are vulnerable to the loss of thrust which can follow the ingestion of birds into engine air intakes. This has resulted in a number of fatal accidents.Bird strikes may occur during any phase of flight but are most likely during the take-off, initial climb, approach and landing phases due to the greater numbers of birds in flight at lower levels. So, develop a machine learning model which will provide some meaningful insights of the regions in which more wild life strikes involved, type of species involved in the strikes etc.,\n"
   ]
  },
  {
   "cell_type": "markdown",
   "metadata": {},
   "source": [
    "### 2. Quick glance of the data "
   ]
  },
  {
   "cell_type": "code",
   "execution_count": 1,
   "metadata": {},
   "outputs": [],
   "source": [
    "# import libraries\n",
    "import numpy as np\n",
    "import pandas as pd \n",
    "from matplotlib import pyplot as plt\n",
    "import matplotlib\n",
    "%matplotlib inline\n",
    "import seaborn as sns\n",
    "from collections import Counter\n",
    "from sklearn.metrics import mean_squared_error\n",
    "from pandas import concat\n",
    "from pandas import Series, DataFrame\n",
    "import statsmodels.api as sm\n",
    "\n",
    "# machine learning\n",
    "from sklearn.preprocessing import scale\n",
    "from sklearn.preprocessing import StandardScaler\n",
    "from sklearn import metrics\n",
    "from sklearn.model_selection import cross_val_score\n",
    "from sklearn.model_selection import train_test_split\n",
    "from sklearn.linear_model import LogisticRegression\n",
    "from sklearn.svm import SVC, LinearSVC\n",
    "from sklearn.ensemble import RandomForestClassifier\n",
    "from sklearn.neighbors import KNeighborsClassifier\n",
    "from sklearn.naive_bayes import GaussianNB\n",
    "\n",
    "pd.set_option('display.max_columns', 100)\n"
   ]
  },
  {
   "cell_type": "code",
   "execution_count": 23,
   "metadata": {},
   "outputs": [
    {
     "name": "stdout",
     "output_type": "stream",
     "text": [
      "Size of the data frame is  (65610, 23)\n",
      "\n",
      " data type of the data frame is \n",
      "  Airport: Name                                  object\n",
      "Altitude bin                                   object\n",
      "Aircraft: Make/Model                           object\n",
      "Effect: Impact to flight                       object\n",
      "FlightDate                                     object\n",
      "Record ID                                       int64\n",
      "Effect: Indicated Damage                       object\n",
      "Aircraft: Number of engines?                   object\n",
      "Aircraft: Airline/Operator                     object\n",
      "Origin State                                   object\n",
      "When: Phase of flight                          object\n",
      "Wildlife: Size                                 object\n",
      "Wildlife: Species                              object\n",
      "When: Time (HHMM)                             float64\n",
      "When: Time of day                              object\n",
      "Pilot warned of birds or wildlife?             object\n",
      "Cost: Aircraft time out of service (hours)    float64\n",
      "Cost: Other (inflation adj)                     int64\n",
      "Cost: Repair (inflation adj)                    int64\n",
      "Cost: Total $                                   int64\n",
      "Miles from airport                            float64\n",
      "Feet above ground                             float64\n",
      "Speed (IAS) in knots                          float64\n",
      "dtype: object\n"
     ]
    }
   ],
   "source": [
    "# Read the data\n",
    "\n",
    "bird = pd.read_csv(\"Bird Strikes Test.csv\",low_memory=False,thousands=',')\n",
    "\n",
    "# Check the size of the data\n",
    "\n",
    "print('Size of the data frame is ', bird.shape)\n",
    "\n",
    "# Check the data type of the data frame\n",
    "\n",
    "print ('\\n data type of the data frame is \\n ',bird.dtypes)"
   ]
  },
  {
   "cell_type": "code",
   "execution_count": 24,
   "metadata": {},
   "outputs": [
    {
     "name": "stdout",
     "output_type": "stream",
     "text": [
      "[0.00013717421124828533, 0.0, 0.0, 0.4434385002286237, 0.0, 0.0, 0.0, 0.3481786313062033, 0.0, 0.09826245999085505, 0.3743179393385155, 0.13604633440024386, 0.0002591068434689834, 0.44160951074531324, 0.36201798506325256, 0.5677335771985977, 0.9335009907026368, 0.0, 0.0, 0.0, 0.4228471269623533, 0.4654930650815424, 0.6141594269166286]\n"
     ]
    }
   ],
   "source": [
    "# Check for the % of missing values in the attribute\n",
    "\n",
    "val = [bird[i].isna().sum()/bird.shape[0] for i in bird.columns]\n",
    "\n",
    "print(val)"
   ]
  },
  {
   "cell_type": "code",
   "execution_count": 25,
   "metadata": {},
   "outputs": [],
   "source": [
    "# Drop the row/column corresponding to the missing values\n",
    "\n",
    "bird = bird.dropna(how='all')"
   ]
  },
  {
   "cell_type": "code",
   "execution_count": 26,
   "metadata": {},
   "outputs": [
    {
     "data": {
      "text/html": [
       "<div>\n",
       "<style scoped>\n",
       "    .dataframe tbody tr th:only-of-type {\n",
       "        vertical-align: middle;\n",
       "    }\n",
       "\n",
       "    .dataframe tbody tr th {\n",
       "        vertical-align: top;\n",
       "    }\n",
       "\n",
       "    .dataframe thead th {\n",
       "        text-align: right;\n",
       "    }\n",
       "</style>\n",
       "<table border=\"1\" class=\"dataframe\">\n",
       "  <thead>\n",
       "    <tr style=\"text-align: right;\">\n",
       "      <th></th>\n",
       "      <th>Airport: Name</th>\n",
       "      <th>Altitude bin</th>\n",
       "      <th>Aircraft: Make/Model</th>\n",
       "      <th>Effect: Impact to flight</th>\n",
       "      <th>FlightDate</th>\n",
       "      <th>Record ID</th>\n",
       "      <th>Effect: Indicated Damage</th>\n",
       "      <th>Aircraft: Number of engines?</th>\n",
       "      <th>Aircraft: Airline/Operator</th>\n",
       "      <th>Origin State</th>\n",
       "      <th>When: Phase of flight</th>\n",
       "      <th>Wildlife: Size</th>\n",
       "      <th>Wildlife: Species</th>\n",
       "      <th>When: Time (HHMM)</th>\n",
       "      <th>When: Time of day</th>\n",
       "      <th>Pilot warned of birds or wildlife?</th>\n",
       "      <th>Cost: Aircraft time out of service (hours)</th>\n",
       "      <th>Cost: Other (inflation adj)</th>\n",
       "      <th>Cost: Repair (inflation adj)</th>\n",
       "      <th>Cost: Total $</th>\n",
       "      <th>Miles from airport</th>\n",
       "      <th>Feet above ground</th>\n",
       "      <th>Speed (IAS) in knots</th>\n",
       "    </tr>\n",
       "  </thead>\n",
       "  <tbody>\n",
       "    <tr>\n",
       "      <th>0</th>\n",
       "      <td>DETROIT METRO WAYNE COUNTY ARPT</td>\n",
       "      <td>&lt; 1000 ft</td>\n",
       "      <td>A-319</td>\n",
       "      <td>NaN</td>\n",
       "      <td>1/1/2005 0:00</td>\n",
       "      <td>227413</td>\n",
       "      <td>No damage</td>\n",
       "      <td>2</td>\n",
       "      <td>NORTHWEST AIRLINES</td>\n",
       "      <td>Michigan</td>\n",
       "      <td>Climb</td>\n",
       "      <td>Medium</td>\n",
       "      <td>Unknown bird - medium</td>\n",
       "      <td>NaN</td>\n",
       "      <td>NaN</td>\n",
       "      <td>NaN</td>\n",
       "      <td>NaN</td>\n",
       "      <td>0</td>\n",
       "      <td>0</td>\n",
       "      <td>0</td>\n",
       "      <td>NaN</td>\n",
       "      <td>400.0</td>\n",
       "      <td>NaN</td>\n",
       "    </tr>\n",
       "    <tr>\n",
       "      <th>1</th>\n",
       "      <td>DANE COUNTY REGIONAL ARPT-TRUAX FLD</td>\n",
       "      <td>&lt; 1000 ft</td>\n",
       "      <td>A-320</td>\n",
       "      <td>NaN</td>\n",
       "      <td>1/1/2005 0:00</td>\n",
       "      <td>226578</td>\n",
       "      <td>No damage</td>\n",
       "      <td>2</td>\n",
       "      <td>NORTHWEST AIRLINES</td>\n",
       "      <td>Wisconsin</td>\n",
       "      <td>Take-off run</td>\n",
       "      <td>Medium</td>\n",
       "      <td>Unknown bird - medium</td>\n",
       "      <td>NaN</td>\n",
       "      <td>NaN</td>\n",
       "      <td>NaN</td>\n",
       "      <td>NaN</td>\n",
       "      <td>0</td>\n",
       "      <td>0</td>\n",
       "      <td>0</td>\n",
       "      <td>0.0</td>\n",
       "      <td>0.0</td>\n",
       "      <td>NaN</td>\n",
       "    </tr>\n",
       "    <tr>\n",
       "      <th>2</th>\n",
       "      <td>HOGUE ARPT</td>\n",
       "      <td>&lt; 1000 ft</td>\n",
       "      <td>PA-46 MALIBU</td>\n",
       "      <td>NaN</td>\n",
       "      <td>1/1/2005 0:00</td>\n",
       "      <td>268383</td>\n",
       "      <td>Caused damage</td>\n",
       "      <td>1</td>\n",
       "      <td>PRIVATELY OWNED</td>\n",
       "      <td>Tennessee</td>\n",
       "      <td>Landing Roll</td>\n",
       "      <td>Large</td>\n",
       "      <td>White-tailed deer</td>\n",
       "      <td>NaN</td>\n",
       "      <td>Day</td>\n",
       "      <td>NaN</td>\n",
       "      <td>NaN</td>\n",
       "      <td>0</td>\n",
       "      <td>0</td>\n",
       "      <td>0</td>\n",
       "      <td>0.0</td>\n",
       "      <td>0.0</td>\n",
       "      <td>20.0</td>\n",
       "    </tr>\n",
       "    <tr>\n",
       "      <th>3</th>\n",
       "      <td>SACRAMENTO INTL</td>\n",
       "      <td>&lt; 1000 ft</td>\n",
       "      <td>B-737-300</td>\n",
       "      <td>None</td>\n",
       "      <td>1/1/2005 0:00</td>\n",
       "      <td>229514</td>\n",
       "      <td>Caused damage</td>\n",
       "      <td>2</td>\n",
       "      <td>SOUTHWEST AIRLINES</td>\n",
       "      <td>California</td>\n",
       "      <td>Approach</td>\n",
       "      <td>Large</td>\n",
       "      <td>Greater white-fronted goose</td>\n",
       "      <td>2140.0</td>\n",
       "      <td>Night</td>\n",
       "      <td>Y</td>\n",
       "      <td>NaN</td>\n",
       "      <td>0</td>\n",
       "      <td>117135</td>\n",
       "      <td>117135</td>\n",
       "      <td>NaN</td>\n",
       "      <td>500.0</td>\n",
       "      <td>142.0</td>\n",
       "    </tr>\n",
       "    <tr>\n",
       "      <th>4</th>\n",
       "      <td>GUARULHOS INTL</td>\n",
       "      <td>&lt; 1000 ft</td>\n",
       "      <td>B-767-300</td>\n",
       "      <td>NaN</td>\n",
       "      <td>1/1/2005 0:00</td>\n",
       "      <td>225661</td>\n",
       "      <td>No damage</td>\n",
       "      <td>2</td>\n",
       "      <td>UNITED AIRLINES</td>\n",
       "      <td>NaN</td>\n",
       "      <td>Landing Roll</td>\n",
       "      <td>Medium</td>\n",
       "      <td>Unknown bird - medium</td>\n",
       "      <td>NaN</td>\n",
       "      <td>NaN</td>\n",
       "      <td>NaN</td>\n",
       "      <td>NaN</td>\n",
       "      <td>0</td>\n",
       "      <td>0</td>\n",
       "      <td>0</td>\n",
       "      <td>0.0</td>\n",
       "      <td>0.0</td>\n",
       "      <td>NaN</td>\n",
       "    </tr>\n",
       "  </tbody>\n",
       "</table>\n",
       "</div>"
      ],
      "text/plain": [
       "                         Airport: Name Altitude bin Aircraft: Make/Model  \\\n",
       "0      DETROIT METRO WAYNE COUNTY ARPT    < 1000 ft                A-319   \n",
       "1  DANE COUNTY REGIONAL ARPT-TRUAX FLD    < 1000 ft                A-320   \n",
       "2                           HOGUE ARPT    < 1000 ft         PA-46 MALIBU   \n",
       "3                      SACRAMENTO INTL    < 1000 ft            B-737-300   \n",
       "4                       GUARULHOS INTL    < 1000 ft            B-767-300   \n",
       "\n",
       "  Effect: Impact to flight     FlightDate  Record ID Effect: Indicated Damage  \\\n",
       "0                      NaN  1/1/2005 0:00     227413                No damage   \n",
       "1                      NaN  1/1/2005 0:00     226578                No damage   \n",
       "2                      NaN  1/1/2005 0:00     268383            Caused damage   \n",
       "3                     None  1/1/2005 0:00     229514            Caused damage   \n",
       "4                      NaN  1/1/2005 0:00     225661                No damage   \n",
       "\n",
       "  Aircraft: Number of engines? Aircraft: Airline/Operator Origin State  \\\n",
       "0                            2         NORTHWEST AIRLINES     Michigan   \n",
       "1                            2         NORTHWEST AIRLINES    Wisconsin   \n",
       "2                            1            PRIVATELY OWNED    Tennessee   \n",
       "3                            2         SOUTHWEST AIRLINES   California   \n",
       "4                            2            UNITED AIRLINES          NaN   \n",
       "\n",
       "  When: Phase of flight Wildlife: Size            Wildlife: Species  \\\n",
       "0                 Climb         Medium        Unknown bird - medium   \n",
       "1          Take-off run         Medium        Unknown bird - medium   \n",
       "2          Landing Roll          Large            White-tailed deer   \n",
       "3              Approach          Large  Greater white-fronted goose   \n",
       "4          Landing Roll         Medium        Unknown bird - medium   \n",
       "\n",
       "   When: Time (HHMM) When: Time of day Pilot warned of birds or wildlife?  \\\n",
       "0                NaN               NaN                                NaN   \n",
       "1                NaN               NaN                                NaN   \n",
       "2                NaN               Day                                NaN   \n",
       "3             2140.0             Night                                  Y   \n",
       "4                NaN               NaN                                NaN   \n",
       "\n",
       "   Cost: Aircraft time out of service (hours)  Cost: Other (inflation adj)  \\\n",
       "0                                         NaN                            0   \n",
       "1                                         NaN                            0   \n",
       "2                                         NaN                            0   \n",
       "3                                         NaN                            0   \n",
       "4                                         NaN                            0   \n",
       "\n",
       "   Cost: Repair (inflation adj)  Cost: Total $  Miles from airport  \\\n",
       "0                             0              0                 NaN   \n",
       "1                             0              0                 0.0   \n",
       "2                             0              0                 0.0   \n",
       "3                        117135         117135                 NaN   \n",
       "4                             0              0                 0.0   \n",
       "\n",
       "   Feet above ground  Speed (IAS) in knots  \n",
       "0              400.0                   NaN  \n",
       "1                0.0                   NaN  \n",
       "2                0.0                  20.0  \n",
       "3              500.0                 142.0  \n",
       "4                0.0                   NaN  "
      ]
     },
     "execution_count": 26,
     "metadata": {},
     "output_type": "execute_result"
    }
   ],
   "source": [
    "# Print the head of the data frame to understand the data\n",
    "\n",
    "bird.head()"
   ]
  },
  {
   "cell_type": "code",
   "execution_count": 27,
   "metadata": {},
   "outputs": [
    {
     "name": "stdout",
     "output_type": "stream",
     "text": [
      "<class 'pandas.core.frame.DataFrame'>\n",
      "Int64Index: 65610 entries, 0 to 65609\n",
      "Data columns (total 23 columns):\n",
      "Airport: Name                                 65601 non-null object\n",
      "Altitude bin                                  65610 non-null object\n",
      "Aircraft: Make/Model                          65610 non-null object\n",
      "Effect: Impact to flight                      36516 non-null object\n",
      "FlightDate                                    65610 non-null object\n",
      "Record ID                                     65610 non-null int64\n",
      "Effect: Indicated Damage                      65610 non-null object\n",
      "Aircraft: Number of engines?                  42766 non-null object\n",
      "Aircraft: Airline/Operator                    65610 non-null object\n",
      "Origin State                                  59163 non-null object\n",
      "When: Phase of flight                         41051 non-null object\n",
      "Wildlife: Size                                56684 non-null object\n",
      "Wildlife: Species                             65593 non-null object\n",
      "When: Time (HHMM)                             36636 non-null float64\n",
      "When: Time of day                             41858 non-null object\n",
      "Pilot warned of birds or wildlife?            28361 non-null object\n",
      "Cost: Aircraft time out of service (hours)    4363 non-null float64\n",
      "Cost: Other (inflation adj)                   65610 non-null int64\n",
      "Cost: Repair (inflation adj)                  65610 non-null int64\n",
      "Cost: Total $                                 65610 non-null int64\n",
      "Miles from airport                            37867 non-null float64\n",
      "Feet above ground                             35069 non-null float64\n",
      "Speed (IAS) in knots                          25315 non-null float64\n",
      "dtypes: float64(5), int64(4), object(14)\n",
      "memory usage: 12.0+ MB\n"
     ]
    }
   ],
   "source": [
    "# Display concise summary of data frame\n",
    "\n",
    "bird.info()"
   ]
  },
  {
   "cell_type": "code",
   "execution_count": 29,
   "metadata": {},
   "outputs": [
    {
     "data": {
      "text/html": [
       "<div>\n",
       "<style scoped>\n",
       "    .dataframe tbody tr th:only-of-type {\n",
       "        vertical-align: middle;\n",
       "    }\n",
       "\n",
       "    .dataframe tbody tr th {\n",
       "        vertical-align: top;\n",
       "    }\n",
       "\n",
       "    .dataframe thead th {\n",
       "        text-align: right;\n",
       "    }\n",
       "</style>\n",
       "<table border=\"1\" class=\"dataframe\">\n",
       "  <thead>\n",
       "    <tr style=\"text-align: right;\">\n",
       "      <th></th>\n",
       "      <th>When: Time (HHMM)</th>\n",
       "      <th>Cost: Aircraft time out of service (hours)</th>\n",
       "      <th>Cost: Other (inflation adj)</th>\n",
       "      <th>Cost: Repair (inflation adj)</th>\n",
       "      <th>Cost: Total $</th>\n",
       "      <th>Miles from airport</th>\n",
       "      <th>Feet above ground</th>\n",
       "      <th>Speed (IAS) in knots</th>\n",
       "    </tr>\n",
       "  </thead>\n",
       "  <tbody>\n",
       "    <tr>\n",
       "      <th>count</th>\n",
       "      <td>36636.000000</td>\n",
       "      <td>4363.000000</td>\n",
       "      <td>6.561000e+04</td>\n",
       "      <td>6.561000e+04</td>\n",
       "      <td>6.561000e+04</td>\n",
       "      <td>37867.000000</td>\n",
       "      <td>35069.000000</td>\n",
       "      <td>25315.000000</td>\n",
       "    </tr>\n",
       "    <tr>\n",
       "      <th>mean</th>\n",
       "      <td>1389.074271</td>\n",
       "      <td>66.022003</td>\n",
       "      <td>3.638845e+02</td>\n",
       "      <td>4.170667e+03</td>\n",
       "      <td>4.534551e+03</td>\n",
       "      <td>0.756544</td>\n",
       "      <td>879.610283</td>\n",
       "      <td>151.563658</td>\n",
       "    </tr>\n",
       "    <tr>\n",
       "      <th>std</th>\n",
       "      <td>613.410508</td>\n",
       "      <td>328.540826</td>\n",
       "      <td>2.449922e+04</td>\n",
       "      <td>1.888698e+05</td>\n",
       "      <td>1.929826e+05</td>\n",
       "      <td>7.586022</td>\n",
       "      <td>1843.923421</td>\n",
       "      <td>267.393363</td>\n",
       "    </tr>\n",
       "    <tr>\n",
       "      <th>min</th>\n",
       "      <td>0.000000</td>\n",
       "      <td>0.000000</td>\n",
       "      <td>0.000000e+00</td>\n",
       "      <td>0.000000e+00</td>\n",
       "      <td>0.000000e+00</td>\n",
       "      <td>0.000000</td>\n",
       "      <td>0.000000</td>\n",
       "      <td>0.000000</td>\n",
       "    </tr>\n",
       "    <tr>\n",
       "      <th>25%</th>\n",
       "      <td>915.000000</td>\n",
       "      <td>0.000000</td>\n",
       "      <td>0.000000e+00</td>\n",
       "      <td>0.000000e+00</td>\n",
       "      <td>0.000000e+00</td>\n",
       "      <td>0.000000</td>\n",
       "      <td>0.000000</td>\n",
       "      <td>120.000000</td>\n",
       "    </tr>\n",
       "    <tr>\n",
       "      <th>50%</th>\n",
       "      <td>1410.000000</td>\n",
       "      <td>1.000000</td>\n",
       "      <td>0.000000e+00</td>\n",
       "      <td>0.000000e+00</td>\n",
       "      <td>0.000000e+00</td>\n",
       "      <td>0.000000</td>\n",
       "      <td>50.000000</td>\n",
       "      <td>140.000000</td>\n",
       "    </tr>\n",
       "    <tr>\n",
       "      <th>75%</th>\n",
       "      <td>1930.000000</td>\n",
       "      <td>12.000000</td>\n",
       "      <td>0.000000e+00</td>\n",
       "      <td>0.000000e+00</td>\n",
       "      <td>0.000000e+00</td>\n",
       "      <td>0.000000</td>\n",
       "      <td>900.000000</td>\n",
       "      <td>160.000000</td>\n",
       "    </tr>\n",
       "    <tr>\n",
       "      <th>max</th>\n",
       "      <td>2359.000000</td>\n",
       "      <td>6480.000000</td>\n",
       "      <td>5.856751e+06</td>\n",
       "      <td>3.794880e+07</td>\n",
       "      <td>3.794880e+07</td>\n",
       "      <td>1300.000000</td>\n",
       "      <td>31300.000000</td>\n",
       "      <td>9999.000000</td>\n",
       "    </tr>\n",
       "  </tbody>\n",
       "</table>\n",
       "</div>"
      ],
      "text/plain": [
       "       When: Time (HHMM)  Cost: Aircraft time out of service (hours)  \\\n",
       "count       36636.000000                                 4363.000000   \n",
       "mean         1389.074271                                   66.022003   \n",
       "std           613.410508                                  328.540826   \n",
       "min             0.000000                                    0.000000   \n",
       "25%           915.000000                                    0.000000   \n",
       "50%          1410.000000                                    1.000000   \n",
       "75%          1930.000000                                   12.000000   \n",
       "max          2359.000000                                 6480.000000   \n",
       "\n",
       "       Cost: Other (inflation adj)  Cost: Repair (inflation adj)  \\\n",
       "count                 6.561000e+04                  6.561000e+04   \n",
       "mean                  3.638845e+02                  4.170667e+03   \n",
       "std                   2.449922e+04                  1.888698e+05   \n",
       "min                   0.000000e+00                  0.000000e+00   \n",
       "25%                   0.000000e+00                  0.000000e+00   \n",
       "50%                   0.000000e+00                  0.000000e+00   \n",
       "75%                   0.000000e+00                  0.000000e+00   \n",
       "max                   5.856751e+06                  3.794880e+07   \n",
       "\n",
       "       Cost: Total $  Miles from airport  Feet above ground  \\\n",
       "count   6.561000e+04        37867.000000       35069.000000   \n",
       "mean    4.534551e+03            0.756544         879.610283   \n",
       "std     1.929826e+05            7.586022        1843.923421   \n",
       "min     0.000000e+00            0.000000           0.000000   \n",
       "25%     0.000000e+00            0.000000           0.000000   \n",
       "50%     0.000000e+00            0.000000          50.000000   \n",
       "75%     0.000000e+00            0.000000         900.000000   \n",
       "max     3.794880e+07         1300.000000       31300.000000   \n",
       "\n",
       "       Speed (IAS) in knots  \n",
       "count          25315.000000  \n",
       "mean             151.563658  \n",
       "std              267.393363  \n",
       "min                0.000000  \n",
       "25%              120.000000  \n",
       "50%              140.000000  \n",
       "75%              160.000000  \n",
       "max             9999.000000  "
      ]
     },
     "execution_count": 29,
     "metadata": {},
     "output_type": "execute_result"
    }
   ],
   "source": [
    "# Drop record id from the data frame as it has no variance \n",
    "\n",
    "bird.drop(['Record ID'], axis=1).describe()"
   ]
  },
  {
   "cell_type": "markdown",
   "metadata": {},
   "source": [
    "### 3. Descriptive Statistics"
   ]
  },
  {
   "cell_type": "markdown",
   "metadata": {},
   "source": [
    "### 3.1 What types of aircrafts are involved in bird strikes? <a name=\"descriptive1\"></a>\n",
    "\n",
    "Several variables related to aircraft information will be used to answer this question, including _Aircraft: Make/Model_, _Aircraft: Number of engines_, and _Aircraft: Airline/Operator_. \n",
    "\n",
    "First, a table of counts over aircraft types and number of engines are shown:"
   ]
  },
  {
   "cell_type": "code",
   "execution_count": 32,
   "metadata": {},
   "outputs": [],
   "source": [
    "# Create a dataframe which will capture the damaged data of the aircraft\n",
    "\n",
    "bird_dmg = bird.loc[(bird['Effect: Indicated Damage'] != 'No damage') | \n",
    "                    (bird['Cost: Total $'] > 0) ]"
   ]
  },
  {
   "cell_type": "code",
   "execution_count": 290,
   "metadata": {},
   "outputs": [
    {
     "name": "stdout",
     "output_type": "stream",
     "text": [
      "(4896, 25)\n"
     ]
    }
   ],
   "source": [
    "# Check the shape of the data frame\n",
    "\n",
    "print(bird_dmg.shape)"
   ]
  },
  {
   "cell_type": "code",
   "execution_count": 33,
   "metadata": {},
   "outputs": [
    {
     "data": {
      "text/html": [
       "<div>\n",
       "<style scoped>\n",
       "    .dataframe tbody tr th:only-of-type {\n",
       "        vertical-align: middle;\n",
       "    }\n",
       "\n",
       "    .dataframe tbody tr th {\n",
       "        vertical-align: top;\n",
       "    }\n",
       "\n",
       "    .dataframe thead th {\n",
       "        text-align: right;\n",
       "    }\n",
       "</style>\n",
       "<table border=\"1\" class=\"dataframe\">\n",
       "  <thead>\n",
       "    <tr style=\"text-align: right;\">\n",
       "      <th></th>\n",
       "      <th>Aircraft: Number of engines?</th>\n",
       "      <th>count</th>\n",
       "    </tr>\n",
       "  </thead>\n",
       "  <tbody>\n",
       "    <tr>\n",
       "      <th>1</th>\n",
       "      <td>2</td>\n",
       "      <td>37127</td>\n",
       "    </tr>\n",
       "    <tr>\n",
       "      <th>2</th>\n",
       "      <td>3</td>\n",
       "      <td>2456</td>\n",
       "    </tr>\n",
       "    <tr>\n",
       "      <th>0</th>\n",
       "      <td>1</td>\n",
       "      <td>2114</td>\n",
       "    </tr>\n",
       "    <tr>\n",
       "      <th>3</th>\n",
       "      <td>4</td>\n",
       "      <td>1068</td>\n",
       "    </tr>\n",
       "    <tr>\n",
       "      <th>4</th>\n",
       "      <td>S</td>\n",
       "      <td>1</td>\n",
       "    </tr>\n",
       "  </tbody>\n",
       "</table>\n",
       "</div>"
      ],
      "text/plain": [
       "  Aircraft: Number of engines?  count\n",
       "1                            2  37127\n",
       "2                            3   2456\n",
       "0                            1   2114\n",
       "3                            4   1068\n",
       "4                            S      1"
      ]
     },
     "execution_count": 33,
     "metadata": {},
     "output_type": "execute_result"
    }
   ],
   "source": [
    "# get a table of number of strikes across aircraft type and aircraft engine numbers\n",
    "\n",
    "count_air_type = DataFrame({'count' : bird.groupby( ['Aircraft: Number of engines?'] ).size()}).reset_index()\n",
    "count_air_type.sort_values(['count'], ascending=0)"
   ]
  },
  {
   "cell_type": "code",
   "execution_count": 41,
   "metadata": {},
   "outputs": [
    {
     "data": {
      "text/html": [
       "<div>\n",
       "<style scoped>\n",
       "    .dataframe tbody tr th:only-of-type {\n",
       "        vertical-align: middle;\n",
       "    }\n",
       "\n",
       "    .dataframe tbody tr th {\n",
       "        vertical-align: top;\n",
       "    }\n",
       "\n",
       "    .dataframe thead th {\n",
       "        text-align: right;\n",
       "    }\n",
       "</style>\n",
       "<table border=\"1\" class=\"dataframe\">\n",
       "  <thead>\n",
       "    <tr style=\"text-align: right;\">\n",
       "      <th></th>\n",
       "      <th>Aircraft: Number of engines?</th>\n",
       "    </tr>\n",
       "  </thead>\n",
       "  <tbody>\n",
       "    <tr>\n",
       "      <th>2</th>\n",
       "      <td>37127</td>\n",
       "    </tr>\n",
       "    <tr>\n",
       "      <th>3</th>\n",
       "      <td>2456</td>\n",
       "    </tr>\n",
       "    <tr>\n",
       "      <th>1</th>\n",
       "      <td>2114</td>\n",
       "    </tr>\n",
       "    <tr>\n",
       "      <th>4</th>\n",
       "      <td>1068</td>\n",
       "    </tr>\n",
       "  </tbody>\n",
       "</table>\n",
       "</div>"
      ],
      "text/plain": [
       "   Aircraft: Number of engines?\n",
       "2                         37127\n",
       "3                          2456\n",
       "1                          2114\n",
       "4                          1068"
      ]
     },
     "execution_count": 41,
     "metadata": {},
     "output_type": "execute_result"
    }
   ],
   "source": [
    "pd.DataFrame(bird['Aircraft: Number of engines?'].value_counts())"
   ]
  },
  {
   "cell_type": "code",
   "execution_count": 37,
   "metadata": {},
   "outputs": [],
   "source": [
    "# Set engine number#S to nan type\n",
    "\n",
    "bird.loc[(bird['Aircraft: Number of engines?'] == 'S'),'Aircraft: Number of engines?'] = np.nan  "
   ]
  },
  {
   "cell_type": "code",
   "execution_count": 38,
   "metadata": {},
   "outputs": [],
   "source": [
    "# Update damage of aircraft\n",
    "\n",
    "bird_dmg = bird.loc[(bird['Effect: Indicated Damage'] != 'No damage') | \n",
    "                    (bird['Cost: Total $'] > 0) ]"
   ]
  },
  {
   "cell_type": "code",
   "execution_count": 52,
   "metadata": {},
   "outputs": [
    {
     "data": {
      "text/plain": [
       "4896"
      ]
     },
     "execution_count": 52,
     "metadata": {},
     "output_type": "execute_result"
    }
   ],
   "source": [
    "len(bird_dmg)"
   ]
  },
  {
   "cell_type": "code",
   "execution_count": 51,
   "metadata": {},
   "outputs": [
    {
     "data": {
      "text/html": [
       "<div>\n",
       "<style scoped>\n",
       "    .dataframe tbody tr th:only-of-type {\n",
       "        vertical-align: middle;\n",
       "    }\n",
       "\n",
       "    .dataframe tbody tr th {\n",
       "        vertical-align: top;\n",
       "    }\n",
       "\n",
       "    .dataframe thead th {\n",
       "        text-align: right;\n",
       "    }\n",
       "</style>\n",
       "<table border=\"1\" class=\"dataframe\">\n",
       "  <thead>\n",
       "    <tr style=\"text-align: right;\">\n",
       "      <th></th>\n",
       "      <th>Aircraft: Number of engines?</th>\n",
       "      <th>count</th>\n",
       "    </tr>\n",
       "  </thead>\n",
       "  <tbody>\n",
       "    <tr>\n",
       "      <th>0</th>\n",
       "      <td>1</td>\n",
       "      <td>2114</td>\n",
       "    </tr>\n",
       "    <tr>\n",
       "      <th>1</th>\n",
       "      <td>2</td>\n",
       "      <td>37127</td>\n",
       "    </tr>\n",
       "    <tr>\n",
       "      <th>2</th>\n",
       "      <td>3</td>\n",
       "      <td>2456</td>\n",
       "    </tr>\n",
       "    <tr>\n",
       "      <th>3</th>\n",
       "      <td>4</td>\n",
       "      <td>1068</td>\n",
       "    </tr>\n",
       "  </tbody>\n",
       "</table>\n",
       "</div>"
      ],
      "text/plain": [
       "  Aircraft: Number of engines?  count\n",
       "0                            1   2114\n",
       "1                            2  37127\n",
       "2                            3   2456\n",
       "3                            4   1068"
      ]
     },
     "execution_count": 51,
     "metadata": {},
     "output_type": "execute_result"
    }
   ],
   "source": [
    "# Display the incidents based on the number of engines\n",
    "\n",
    "count_air_type = DataFrame({'count' : bird.groupby( ['Aircraft: Number of engines?'] ).size()}).reset_index()\n",
    "count_air_type"
   ]
  },
  {
   "cell_type": "code",
   "execution_count": 68,
   "metadata": {},
   "outputs": [
    {
     "data": {
      "image/png": "[encoded data removed]",
      "text/plain": [
       "<Figure size 432x288 with 1 Axes>"
      ]
     },
     "metadata": {
      "needs_background": "light"
     },
     "output_type": "display_data"
    }
   ],
   "source": [
    "# plot the frequency of Aircraft: Number of engines?\n",
    "\n",
    "count_air_type = DataFrame({'count' : bird.groupby( ['Aircraft: Number of engines?'] ).size()}).reset_index()\n",
    "\n",
    "fig_air_type = sns.barplot(x=u'Aircraft: Number of engines?', y='count', \n",
    "                           data=count_air_type)\n",
    "\n",
    "\n",
    "fig_air_type.set(xlabel='Aircraft: Number of Engines', ylabel='Counts - All Strikes');\n",
    "fig_air_type.set_title('The Frequency of All Strikes Over Aircraft Number of Engines');"
   ]
  },
  {
   "cell_type": "code",
   "execution_count": 70,
   "metadata": {},
   "outputs": [
    {
     "data": {
      "image/png": "[encoded data removed]",
      "text/plain": [
       "<Figure size 432x288 with 1 Axes>"
      ]
     },
     "metadata": {
      "needs_background": "light"
     },
     "output_type": "display_data"
    }
   ],
   "source": [
    "# Draw bar plot for the incidents reported with aircraft damage \n",
    "count_air_type0 = DataFrame({'count' : bird_dmg.groupby( ['Aircraft: Number of engines?'] ).size()}).reset_index()\n",
    "count_air_type0['All Strikes Counts'] = count_air_type['count']\n",
    "count_air_type0['Damage Rate'] = count_air_type0['count']/count_air_type0['All Strikes Counts']\n",
    "# plot the frequency of Aircraft: Number of engines?\n",
    "fig_air_type0 = sns.barplot(x=u'Aircraft: Number of engines?', y='count', data=count_air_type0)\n",
    "fig_air_type0.set(xlabel='Aircraft: Number of Engines', ylabel='Counts - Damaging Strikes');\n",
    "fig_air_type0.set_title('The Frequency of Damaging Strikes Over \\n Aircraft Number of Engines');"
   ]
  },
  {
   "cell_type": "code",
   "execution_count": 74,
   "metadata": {
    "scrolled": true
   },
   "outputs": [
    {
     "data": {
      "image/png": "[encoded data removed]",
      "text/plain": [
       "<Figure size 432x288 with 1 Axes>"
      ]
     },
     "metadata": {
      "needs_background": "light"
     },
     "output_type": "display_data"
    }
   ],
   "source": [
    "# plot the damage rate of Aircraft: Number of engines?\n",
    "fig_air_type01 = sns.barplot(x=u'Aircraft: Number of engines?', y='Damage Rate', data=count_air_type0)\n",
    "fig_air_type01.set(xlabel='Aircraft: Number of Engines', ylabel='Damage Rate');\n",
    "fig_air_type01.set_title('Damage Rate Over Aircraft Number of Engines');"
   ]
  },
  {
   "cell_type": "code",
   "execution_count": 86,
   "metadata": {},
   "outputs": [
    {
     "data": {
      "text/html": [
       "<div>\n",
       "<style scoped>\n",
       "    .dataframe tbody tr th:only-of-type {\n",
       "        vertical-align: middle;\n",
       "    }\n",
       "\n",
       "    .dataframe tbody tr th {\n",
       "        vertical-align: top;\n",
       "    }\n",
       "\n",
       "    .dataframe thead th {\n",
       "        text-align: right;\n",
       "    }\n",
       "</style>\n",
       "<table border=\"1\" class=\"dataframe\">\n",
       "  <thead>\n",
       "    <tr style=\"text-align: right;\">\n",
       "      <th></th>\n",
       "      <th>Aircraft: Airline/Operator</th>\n",
       "      <th>count</th>\n",
       "    </tr>\n",
       "  </thead>\n",
       "  <tbody>\n",
       "    <tr>\n",
       "      <th>277</th>\n",
       "      <td>UNKNOWN</td>\n",
       "      <td>16342</td>\n",
       "    </tr>\n",
       "    <tr>\n",
       "      <th>196</th>\n",
       "      <td>MILITARY</td>\n",
       "      <td>6108</td>\n",
       "    </tr>\n",
       "    <tr>\n",
       "      <th>253</th>\n",
       "      <td>SOUTHWEST AIRLINES</td>\n",
       "      <td>5995</td>\n",
       "    </tr>\n",
       "    <tr>\n",
       "      <th>72</th>\n",
       "      <td>BUSINESS</td>\n",
       "      <td>4305</td>\n",
       "    </tr>\n",
       "    <tr>\n",
       "      <th>134</th>\n",
       "      <td>FEDEX EXPRESS</td>\n",
       "      <td>3092</td>\n",
       "    </tr>\n",
       "    <tr>\n",
       "      <th>279</th>\n",
       "      <td>UPS AIRLINES</td>\n",
       "      <td>2898</td>\n",
       "    </tr>\n",
       "    <tr>\n",
       "      <th>275</th>\n",
       "      <td>UNITED AIRLINES</td>\n",
       "      <td>2805</td>\n",
       "    </tr>\n",
       "    <tr>\n",
       "      <th>45</th>\n",
       "      <td>AMERICAN AIRLINES</td>\n",
       "      <td>2102</td>\n",
       "    </tr>\n",
       "    <tr>\n",
       "      <th>111</th>\n",
       "      <td>DELTA AIR LINES</td>\n",
       "      <td>1573</td>\n",
       "    </tr>\n",
       "    <tr>\n",
       "      <th>250</th>\n",
       "      <td>SKYWEST AIRLINES</td>\n",
       "      <td>1569</td>\n",
       "    </tr>\n",
       "  </tbody>\n",
       "</table>\n",
       "</div>"
      ],
      "text/plain": [
       "    Aircraft: Airline/Operator  count\n",
       "277                    UNKNOWN  16342\n",
       "196                   MILITARY   6108\n",
       "253         SOUTHWEST AIRLINES   5995\n",
       "72                    BUSINESS   4305\n",
       "134              FEDEX EXPRESS   3092\n",
       "279               UPS AIRLINES   2898\n",
       "275            UNITED AIRLINES   2805\n",
       "45           AMERICAN AIRLINES   2102\n",
       "111            DELTA AIR LINES   1573\n",
       "250           SKYWEST AIRLINES   1569"
      ]
     },
     "execution_count": 86,
     "metadata": {},
     "output_type": "execute_result"
    }
   ],
   "source": [
    "# Number of strikes reported based on the aircraft type\n",
    "count_air_n_eng = DataFrame({'count':bird.groupby('Aircraft: Airline/Operator').size()}).reset_index()\n",
    "count_air_n_eng.sort_values(['count'], ascending=0).head(10)"
   ]
  },
  {
   "cell_type": "code",
   "execution_count": 88,
   "metadata": {},
   "outputs": [
    {
     "data": {
      "text/html": [
       "<div>\n",
       "<style scoped>\n",
       "    .dataframe tbody tr th:only-of-type {\n",
       "        vertical-align: middle;\n",
       "    }\n",
       "\n",
       "    .dataframe tbody tr th {\n",
       "        vertical-align: top;\n",
       "    }\n",
       "\n",
       "    .dataframe thead th {\n",
       "        text-align: right;\n",
       "    }\n",
       "</style>\n",
       "<table border=\"1\" class=\"dataframe\">\n",
       "  <thead>\n",
       "    <tr style=\"text-align: right;\">\n",
       "      <th></th>\n",
       "      <th>Aircraft: Airline/Operator</th>\n",
       "      <th>count</th>\n",
       "    </tr>\n",
       "  </thead>\n",
       "  <tbody>\n",
       "    <tr>\n",
       "      <th>42</th>\n",
       "      <td>BUSINESS</td>\n",
       "      <td>1220</td>\n",
       "    </tr>\n",
       "    <tr>\n",
       "      <th>153</th>\n",
       "      <td>SOUTHWEST AIRLINES</td>\n",
       "      <td>471</td>\n",
       "    </tr>\n",
       "    <tr>\n",
       "      <th>118</th>\n",
       "      <td>MILITARY</td>\n",
       "      <td>254</td>\n",
       "    </tr>\n",
       "    <tr>\n",
       "      <th>162</th>\n",
       "      <td>UNITED AIRLINES</td>\n",
       "      <td>248</td>\n",
       "    </tr>\n",
       "    <tr>\n",
       "      <th>138</th>\n",
       "      <td>PRIVATELY OWNED</td>\n",
       "      <td>241</td>\n",
       "    </tr>\n",
       "    <tr>\n",
       "      <th>165</th>\n",
       "      <td>UPS AIRLINES</td>\n",
       "      <td>197</td>\n",
       "    </tr>\n",
       "    <tr>\n",
       "      <th>25</th>\n",
       "      <td>AMERICAN AIRLINES</td>\n",
       "      <td>172</td>\n",
       "    </tr>\n",
       "    <tr>\n",
       "      <th>82</th>\n",
       "      <td>FEDEX EXPRESS</td>\n",
       "      <td>170</td>\n",
       "    </tr>\n",
       "    <tr>\n",
       "      <th>67</th>\n",
       "      <td>DELTA AIR LINES</td>\n",
       "      <td>169</td>\n",
       "    </tr>\n",
       "    <tr>\n",
       "      <th>101</th>\n",
       "      <td>JETBLUE AIRWAYS</td>\n",
       "      <td>113</td>\n",
       "    </tr>\n",
       "  </tbody>\n",
       "</table>\n",
       "</div>"
      ],
      "text/plain": [
       "    Aircraft: Airline/Operator  count\n",
       "42                    BUSINESS   1220\n",
       "153         SOUTHWEST AIRLINES    471\n",
       "118                   MILITARY    254\n",
       "162            UNITED AIRLINES    248\n",
       "138            PRIVATELY OWNED    241\n",
       "165               UPS AIRLINES    197\n",
       "25           AMERICAN AIRLINES    172\n",
       "82               FEDEX EXPRESS    170\n",
       "67             DELTA AIR LINES    169\n",
       "101            JETBLUE AIRWAYS    113"
      ]
     },
     "execution_count": 88,
     "metadata": {},
     "output_type": "execute_result"
    }
   ],
   "source": [
    "# Number of strikes reported based on the aircraft type\n",
    "count_air_n_eng0 = DataFrame({'count':bird_dmg.groupby('Aircraft: Airline/Operator').size()}).reset_index()\n",
    "count_air_n_eng0.sort_values(['count'], ascending=0).head(10)"
   ]
  },
  {
   "cell_type": "code",
   "execution_count": 92,
   "metadata": {},
   "outputs": [
    {
     "data": {
      "text/html": [
       "<div>\n",
       "<style scoped>\n",
       "    .dataframe tbody tr th:only-of-type {\n",
       "        vertical-align: middle;\n",
       "    }\n",
       "\n",
       "    .dataframe tbody tr th {\n",
       "        vertical-align: top;\n",
       "    }\n",
       "\n",
       "    .dataframe thead th {\n",
       "        text-align: right;\n",
       "    }\n",
       "</style>\n",
       "<table border=\"1\" class=\"dataframe\">\n",
       "  <thead>\n",
       "    <tr style=\"text-align: right;\">\n",
       "      <th></th>\n",
       "      <th>Aircraft: Make/Model</th>\n",
       "      <th>count</th>\n",
       "    </tr>\n",
       "  </thead>\n",
       "  <tbody>\n",
       "    <tr>\n",
       "      <th>448</th>\n",
       "      <td>UNKNOWN</td>\n",
       "      <td>19540</td>\n",
       "    </tr>\n",
       "    <tr>\n",
       "      <th>49</th>\n",
       "      <td>B-737-700</td>\n",
       "      <td>3634</td>\n",
       "    </tr>\n",
       "    <tr>\n",
       "      <th>195</th>\n",
       "      <td>CL-RJ100/200</td>\n",
       "      <td>3133</td>\n",
       "    </tr>\n",
       "    <tr>\n",
       "      <th>45</th>\n",
       "      <td>B-737-300</td>\n",
       "      <td>2912</td>\n",
       "    </tr>\n",
       "    <tr>\n",
       "      <th>6</th>\n",
       "      <td>A-320</td>\n",
       "      <td>2825</td>\n",
       "    </tr>\n",
       "    <tr>\n",
       "      <th>58</th>\n",
       "      <td>B-757-200</td>\n",
       "      <td>2363</td>\n",
       "    </tr>\n",
       "    <tr>\n",
       "      <th>5</th>\n",
       "      <td>A-319</td>\n",
       "      <td>1967</td>\n",
       "    </tr>\n",
       "    <tr>\n",
       "      <th>2</th>\n",
       "      <td>A-300</td>\n",
       "      <td>1748</td>\n",
       "    </tr>\n",
       "    <tr>\n",
       "      <th>258</th>\n",
       "      <td>EMB-145</td>\n",
       "      <td>1618</td>\n",
       "    </tr>\n",
       "    <tr>\n",
       "      <th>50</th>\n",
       "      <td>B-737-800</td>\n",
       "      <td>1132</td>\n",
       "    </tr>\n",
       "  </tbody>\n",
       "</table>\n",
       "</div>"
      ],
      "text/plain": [
       "    Aircraft: Make/Model  count\n",
       "448              UNKNOWN  19540\n",
       "49             B-737-700   3634\n",
       "195         CL-RJ100/200   3133\n",
       "45             B-737-300   2912\n",
       "6                  A-320   2825\n",
       "58             B-757-200   2363\n",
       "5                  A-319   1967\n",
       "2                  A-300   1748\n",
       "258              EMB-145   1618\n",
       "50             B-737-800   1132"
      ]
     },
     "execution_count": 92,
     "metadata": {},
     "output_type": "execute_result"
    }
   ],
   "source": [
    "# List the number of aircrafts based on make\n",
    "count_air_make = DataFrame({'count' : bird.groupby('Aircraft: Make/Model').size()}).reset_index()\n",
    "count_air_make.sort_values(['count'],ascending = 0).head(10)"
   ]
  },
  {
   "cell_type": "code",
   "execution_count": 93,
   "metadata": {},
   "outputs": [
    {
     "data": {
      "text/html": [
       "<div>\n",
       "<style scoped>\n",
       "    .dataframe tbody tr th:only-of-type {\n",
       "        vertical-align: middle;\n",
       "    }\n",
       "\n",
       "    .dataframe tbody tr th {\n",
       "        vertical-align: top;\n",
       "    }\n",
       "\n",
       "    .dataframe thead th {\n",
       "        text-align: right;\n",
       "    }\n",
       "</style>\n",
       "<table border=\"1\" class=\"dataframe\">\n",
       "  <thead>\n",
       "    <tr style=\"text-align: right;\">\n",
       "      <th></th>\n",
       "      <th>Aircraft: Make/Model</th>\n",
       "      <th>count</th>\n",
       "    </tr>\n",
       "  </thead>\n",
       "  <tbody>\n",
       "    <tr>\n",
       "      <th>41</th>\n",
       "      <td>B-737-700</td>\n",
       "      <td>278</td>\n",
       "    </tr>\n",
       "    <tr>\n",
       "      <th>38</th>\n",
       "      <td>B-737-300</td>\n",
       "      <td>268</td>\n",
       "    </tr>\n",
       "    <tr>\n",
       "      <th>49</th>\n",
       "      <td>B-757-200</td>\n",
       "      <td>236</td>\n",
       "    </tr>\n",
       "    <tr>\n",
       "      <th>6</th>\n",
       "      <td>A-320</td>\n",
       "      <td>225</td>\n",
       "    </tr>\n",
       "    <tr>\n",
       "      <th>145</th>\n",
       "      <td>CL-RJ100/200</td>\n",
       "      <td>208</td>\n",
       "    </tr>\n",
       "    <tr>\n",
       "      <th>5</th>\n",
       "      <td>A-319</td>\n",
       "      <td>171</td>\n",
       "    </tr>\n",
       "    <tr>\n",
       "      <th>307</th>\n",
       "      <td>UNKNOWN</td>\n",
       "      <td>161</td>\n",
       "    </tr>\n",
       "    <tr>\n",
       "      <th>98</th>\n",
       "      <td>C-172</td>\n",
       "      <td>149</td>\n",
       "    </tr>\n",
       "    <tr>\n",
       "      <th>181</th>\n",
       "      <td>EMB-145</td>\n",
       "      <td>122</td>\n",
       "    </tr>\n",
       "    <tr>\n",
       "      <th>2</th>\n",
       "      <td>A-300</td>\n",
       "      <td>115</td>\n",
       "    </tr>\n",
       "  </tbody>\n",
       "</table>\n",
       "</div>"
      ],
      "text/plain": [
       "    Aircraft: Make/Model  count\n",
       "41             B-737-700    278\n",
       "38             B-737-300    268\n",
       "49             B-757-200    236\n",
       "6                  A-320    225\n",
       "145         CL-RJ100/200    208\n",
       "5                  A-319    171\n",
       "307              UNKNOWN    161\n",
       "98                 C-172    149\n",
       "181              EMB-145    122\n",
       "2                  A-300    115"
      ]
     },
     "execution_count": 93,
     "metadata": {},
     "output_type": "execute_result"
    }
   ],
   "source": [
    "# List the number of damaged aircrafts based on make\n",
    "count_air_make0 = DataFrame({'count' : bird_dmg.groupby('Aircraft: Make/Model').size()}).reset_index()\n",
    "count_air_make0.sort_values(['count'],ascending = 0).head(10)"
   ]
  },
  {
   "cell_type": "markdown",
   "metadata": {},
   "source": [
    "Together, the analyses show that two-engine aircrafts are most frequently struck. But one-engine aircrafts are more prone to damages once struck."
   ]
  },
  {
   "cell_type": "markdown",
   "metadata": {},
   "source": [
    "### 3.2 What kinds of birds are involved in bird strikes? <a name=\"descriptive2\"></a>\n",
    "\n",
    "This section focuses on variables including _Wildlife: Size_, and _Wildlife: Species_ to describe the birds involved.\n",
    "\n",
    "The following table shows the top 10 bird species involved in all strikes:"
   ]
  },
  {
   "cell_type": "code",
   "execution_count": 98,
   "metadata": {},
   "outputs": [
    {
     "data": {
      "text/html": [
       "<div>\n",
       "<style scoped>\n",
       "    .dataframe tbody tr th:only-of-type {\n",
       "        vertical-align: middle;\n",
       "    }\n",
       "\n",
       "    .dataframe tbody tr th {\n",
       "        vertical-align: top;\n",
       "    }\n",
       "\n",
       "    .dataframe thead th {\n",
       "        text-align: right;\n",
       "    }\n",
       "</style>\n",
       "<table border=\"1\" class=\"dataframe\">\n",
       "  <thead>\n",
       "    <tr style=\"text-align: right;\">\n",
       "      <th></th>\n",
       "      <th>Wildlife: Size</th>\n",
       "      <th>count</th>\n",
       "    </tr>\n",
       "  </thead>\n",
       "  <tbody>\n",
       "    <tr>\n",
       "      <th>0</th>\n",
       "      <td>Large</td>\n",
       "      <td>3416</td>\n",
       "    </tr>\n",
       "    <tr>\n",
       "      <th>1</th>\n",
       "      <td>Medium</td>\n",
       "      <td>18064</td>\n",
       "    </tr>\n",
       "    <tr>\n",
       "      <th>2</th>\n",
       "      <td>Small</td>\n",
       "      <td>35204</td>\n",
       "    </tr>\n",
       "  </tbody>\n",
       "</table>\n",
       "</div>"
      ],
      "text/plain": [
       "  Wildlife: Size  count\n",
       "0          Large   3416\n",
       "1         Medium  18064\n",
       "2          Small  35204"
      ]
     },
     "execution_count": 98,
     "metadata": {},
     "output_type": "execute_result"
    }
   ],
   "source": [
    "count_bird_size = DataFrame({'count':bird.groupby('Wildlife: Size').size()}).reset_index()\n",
    "count_bird_size"
   ]
  },
  {
   "cell_type": "code",
   "execution_count": 101,
   "metadata": {},
   "outputs": [
    {
     "data": {
      "text/plain": [
       "Text(0.5, 1.0, 'Size of wild life involved in strike vs # of incidents')"
      ]
     },
     "execution_count": 101,
     "metadata": {},
     "output_type": "execute_result"
    },
    {
     "data": {
      "image/png": "[encoded data removed]",
      "text/plain": [
       "<Figure size 432x288 with 1 Axes>"
      ]
     },
     "metadata": {
      "needs_background": "light"
     },
     "output_type": "display_data"
    }
   ],
   "source": [
    "# wild life involved in the strikes reported\n",
    "count_bird_size = DataFrame({'count':bird.groupby('Wildlife: Size').size()}).reset_index()\n",
    "\n",
    "fig_bird_type = sns.barplot(x='Wildlife: Size',y='count', data=count_bird_size)\n",
    "fig_bird_type.set(xlabel = 'Size of wild life involved in strike', ylabel = 'No of incidents')\n",
    "fig_bird_type.set_title('Size of wild life involved in strike vs # of incidents')\n"
   ]
  },
  {
   "cell_type": "code",
   "execution_count": 103,
   "metadata": {},
   "outputs": [
    {
     "data": {
      "text/plain": [
       "Text(0.5, 1.0, 'Size of wild life involved in strike vs # of incidents')"
      ]
     },
     "execution_count": 103,
     "metadata": {},
     "output_type": "execute_result"
    },
    {
     "data": {
      "image/png": "[encoded data removed]",
      "text/plain": [
       "<Figure size 432x288 with 1 Axes>"
      ]
     },
     "metadata": {
      "needs_background": "light"
     },
     "output_type": "display_data"
    }
   ],
   "source": [
    "# Damage caused due to the wild life involved in the strikes reported\n",
    "count_bird_size0 = DataFrame({'count':bird_dmg.groupby('Wildlife: Size').size()}).reset_index()\n",
    "count_bird_size0['All Strike Count'] = count_bird_size['count']\n",
    "count_bird_size0['Damage Rate']  = count_bird_size0['count']/count_bird_size0['All Strike Count']\n",
    "\n",
    "fig_bird_type = sns.barplot(x='Wildlife: Size',y='count', data=count_bird_size0)\n",
    "fig_bird_type.set(xlabel = 'Size of wild life involved in strike', ylabel = 'No of incidents')\n",
    "fig_bird_type.set_title('Size of wild life involved in strike vs # of incidents')\n"
   ]
  },
  {
   "cell_type": "code",
   "execution_count": 104,
   "metadata": {},
   "outputs": [
    {
     "data": {
      "text/plain": [
       "Text(0.5, 1.0, 'Size of wild life involved in strike vs Damage Rate')"
      ]
     },
     "execution_count": 104,
     "metadata": {},
     "output_type": "execute_result"
    },
    {
     "data": {
      "image/png": "[encoded data removed]",
      "text/plain": [
       "<Figure size 432x288 with 1 Axes>"
      ]
     },
     "metadata": {
      "needs_background": "light"
     },
     "output_type": "display_data"
    }
   ],
   "source": [
    "# Damage rate of the incidents reported with the wild life\n",
    "fig_wild_damage = sns.barplot(x='Wildlife: Size',y='Damage Rate',data=count_bird_size0)\n",
    "\n",
    "fig_wild_damage.set(xlabel= 'Size of wild life involved in strike', ylabel = 'Damage Rate')\n",
    "fig_wild_damage.set_title('Size of wild life involved in strike vs Damage Rate')"
   ]
  },
  {
   "cell_type": "code",
   "execution_count": 109,
   "metadata": {},
   "outputs": [
    {
     "data": {
      "text/html": [
       "<div>\n",
       "<style scoped>\n",
       "    .dataframe tbody tr th:only-of-type {\n",
       "        vertical-align: middle;\n",
       "    }\n",
       "\n",
       "    .dataframe tbody tr th {\n",
       "        vertical-align: top;\n",
       "    }\n",
       "\n",
       "    .dataframe thead th {\n",
       "        text-align: right;\n",
       "    }\n",
       "</style>\n",
       "<table border=\"1\" class=\"dataframe\">\n",
       "  <thead>\n",
       "    <tr style=\"text-align: right;\">\n",
       "      <th></th>\n",
       "      <th>Wildlife: Species</th>\n",
       "      <th>count</th>\n",
       "    </tr>\n",
       "  </thead>\n",
       "  <tbody>\n",
       "    <tr>\n",
       "      <th>495</th>\n",
       "      <td>Unknown bird - small</td>\n",
       "      <td>12645</td>\n",
       "    </tr>\n",
       "    <tr>\n",
       "      <th>494</th>\n",
       "      <td>Unknown bird - medium</td>\n",
       "      <td>11513</td>\n",
       "    </tr>\n",
       "    <tr>\n",
       "      <th>319</th>\n",
       "      <td>Mourning dove</td>\n",
       "      <td>3265</td>\n",
       "    </tr>\n",
       "    <tr>\n",
       "      <th>496</th>\n",
       "      <td>Unknown bird or bat</td>\n",
       "      <td>3066</td>\n",
       "    </tr>\n",
       "    <tr>\n",
       "      <th>270</th>\n",
       "      <td>Killdeer</td>\n",
       "      <td>2188</td>\n",
       "    </tr>\n",
       "    <tr>\n",
       "      <th>11</th>\n",
       "      <td>American kestrel</td>\n",
       "      <td>1976</td>\n",
       "    </tr>\n",
       "    <tr>\n",
       "      <th>492</th>\n",
       "      <td>Unknown bird</td>\n",
       "      <td>1848</td>\n",
       "    </tr>\n",
       "    <tr>\n",
       "      <th>259</th>\n",
       "      <td>Horned lark</td>\n",
       "      <td>1670</td>\n",
       "    </tr>\n",
       "    <tr>\n",
       "      <th>31</th>\n",
       "      <td>Barn swallow</td>\n",
       "      <td>1639</td>\n",
       "    </tr>\n",
       "    <tr>\n",
       "      <th>186</th>\n",
       "      <td>European starling</td>\n",
       "      <td>1504</td>\n",
       "    </tr>\n",
       "  </tbody>\n",
       "</table>\n",
       "</div>"
      ],
      "text/plain": [
       "         Wildlife: Species  count\n",
       "495   Unknown bird - small  12645\n",
       "494  Unknown bird - medium  11513\n",
       "319          Mourning dove   3265\n",
       "496    Unknown bird or bat   3066\n",
       "270               Killdeer   2188\n",
       "11        American kestrel   1976\n",
       "492           Unknown bird   1848\n",
       "259            Horned lark   1670\n",
       "31            Barn swallow   1639\n",
       "186      European starling   1504"
      ]
     },
     "execution_count": 109,
     "metadata": {},
     "output_type": "execute_result"
    }
   ],
   "source": [
    "# Check for the top 10 wild life species involved in the strike\n",
    "count_bird_species = DataFrame({'count':bird.groupby('Wildlife: Species').size()}).reset_index()\n",
    "count_bird_species.sort_values(['count'],ascending=0).head(10)\n"
   ]
  },
  {
   "cell_type": "code",
   "execution_count": 110,
   "metadata": {},
   "outputs": [
    {
     "data": {
      "text/html": [
       "<div>\n",
       "<style scoped>\n",
       "    .dataframe tbody tr th:only-of-type {\n",
       "        vertical-align: middle;\n",
       "    }\n",
       "\n",
       "    .dataframe tbody tr th {\n",
       "        vertical-align: top;\n",
       "    }\n",
       "\n",
       "    .dataframe thead th {\n",
       "        text-align: right;\n",
       "    }\n",
       "</style>\n",
       "<table border=\"1\" class=\"dataframe\">\n",
       "  <thead>\n",
       "    <tr style=\"text-align: right;\">\n",
       "      <th></th>\n",
       "      <th>Wildlife: Species</th>\n",
       "      <th>count</th>\n",
       "    </tr>\n",
       "  </thead>\n",
       "  <tbody>\n",
       "    <tr>\n",
       "      <th>221</th>\n",
       "      <td>Unknown bird - medium</td>\n",
       "      <td>1089</td>\n",
       "    </tr>\n",
       "    <tr>\n",
       "      <th>222</th>\n",
       "      <td>Unknown bird - small</td>\n",
       "      <td>518</td>\n",
       "    </tr>\n",
       "    <tr>\n",
       "      <th>220</th>\n",
       "      <td>Unknown bird - large</td>\n",
       "      <td>332</td>\n",
       "    </tr>\n",
       "    <tr>\n",
       "      <th>108</th>\n",
       "      <td>Gulls</td>\n",
       "      <td>209</td>\n",
       "    </tr>\n",
       "    <tr>\n",
       "      <th>44</th>\n",
       "      <td>Canada goose</td>\n",
       "      <td>192</td>\n",
       "    </tr>\n",
       "    <tr>\n",
       "      <th>239</th>\n",
       "      <td>White-tailed deer</td>\n",
       "      <td>171</td>\n",
       "    </tr>\n",
       "    <tr>\n",
       "      <th>219</th>\n",
       "      <td>Unknown bird</td>\n",
       "      <td>170</td>\n",
       "    </tr>\n",
       "    <tr>\n",
       "      <th>181</th>\n",
       "      <td>Red-tailed hawk</td>\n",
       "      <td>142</td>\n",
       "    </tr>\n",
       "    <tr>\n",
       "      <th>218</th>\n",
       "      <td>Turkey vulture</td>\n",
       "      <td>121</td>\n",
       "    </tr>\n",
       "    <tr>\n",
       "      <th>223</th>\n",
       "      <td>Unknown bird or bat</td>\n",
       "      <td>101</td>\n",
       "    </tr>\n",
       "  </tbody>\n",
       "</table>\n",
       "</div>"
      ],
      "text/plain": [
       "         Wildlife: Species  count\n",
       "221  Unknown bird - medium   1089\n",
       "222   Unknown bird - small    518\n",
       "220   Unknown bird - large    332\n",
       "108                  Gulls    209\n",
       "44            Canada goose    192\n",
       "239      White-tailed deer    171\n",
       "219           Unknown bird    170\n",
       "181        Red-tailed hawk    142\n",
       "218         Turkey vulture    121\n",
       "223    Unknown bird or bat    101"
      ]
     },
     "execution_count": 110,
     "metadata": {},
     "output_type": "execute_result"
    }
   ],
   "source": [
    "# Check for the top 10 wild life species involved in the strike and caused damage\n",
    "count_bird_species0 = DataFrame({'count':bird_dmg.groupby('Wildlife: Species').size()}).reset_index()\n",
    "count_bird_species0.sort_values(['count'],ascending=0).head(10)"
   ]
  },
  {
   "cell_type": "markdown",
   "metadata": {},
   "source": [
    "### 3.3 What are the flight statuses during bird strikes? <a name=\"descriptive3\"></a>\n",
    "\n",
    "Several variables in the data set can be used to answer this question, including the altitude of the aircraft (_Altitude bin_ and _Feet above ground_), the phase of the flight (_When: Phase of flight_), the speed of the flight (_Speed (IAS) in knots_), and the distance of the aircraft from the airport (_Miles from airport_).\n",
    "\n",
    "First, altitude information of all strikes is listed in a table."
   ]
  },
  {
   "cell_type": "code",
   "execution_count": 113,
   "metadata": {},
   "outputs": [
    {
     "data": {
      "text/plain": [
       "Text(0.5, 1.0, 'Altitude vs a/c count')"
      ]
     },
     "execution_count": 113,
     "metadata": {},
     "output_type": "execute_result"
    },
    {
     "data": {
      "image/png": "[encoded data removed]",
      "text/plain": [
       "<Figure size 432x288 with 1 Axes>"
      ]
     },
     "metadata": {
      "needs_background": "light"
     },
     "output_type": "display_data"
    }
   ],
   "source": [
    "# # of incidents recorded at each altitude bins available\n",
    "count_alt = DataFrame({'count':bird.groupby('Altitude bin').size()}).reset_index()\n",
    "\n",
    "fig_alt = sns.barplot(x='Altitude bin',y='count',data=count_alt)\n",
    "fig_alt.set(xlabel = 'Altitude of aircraft',ylabel='count of a/c in the altitude')\n",
    "fig_alt.set_title('Altitude vs a/c count')"
   ]
  },
  {
   "cell_type": "code",
   "execution_count": 118,
   "metadata": {},
   "outputs": [
    {
     "data": {
      "text/html": [
       "<div>\n",
       "<style scoped>\n",
       "    .dataframe tbody tr th:only-of-type {\n",
       "        vertical-align: middle;\n",
       "    }\n",
       "\n",
       "    .dataframe tbody tr th {\n",
       "        vertical-align: top;\n",
       "    }\n",
       "\n",
       "    .dataframe thead th {\n",
       "        text-align: right;\n",
       "    }\n",
       "</style>\n",
       "<table border=\"1\" class=\"dataframe\">\n",
       "  <thead>\n",
       "    <tr style=\"text-align: right;\">\n",
       "      <th></th>\n",
       "      <th>Altitude bin</th>\n",
       "      <th>count</th>\n",
       "    </tr>\n",
       "  </thead>\n",
       "  <tbody>\n",
       "    <tr>\n",
       "      <th>0</th>\n",
       "      <td>&lt; 1000 ft</td>\n",
       "      <td>27523</td>\n",
       "    </tr>\n",
       "    <tr>\n",
       "      <th>1</th>\n",
       "      <td>&gt; 1000 ft</td>\n",
       "      <td>7546</td>\n",
       "    </tr>\n",
       "    <tr>\n",
       "      <th>2</th>\n",
       "      <td>Unknown</td>\n",
       "      <td>30541</td>\n",
       "    </tr>\n",
       "  </tbody>\n",
       "</table>\n",
       "</div>"
      ],
      "text/plain": [
       "  Altitude bin  count\n",
       "0    < 1000 ft  27523\n",
       "1    > 1000 ft   7546\n",
       "2      Unknown  30541"
      ]
     },
     "execution_count": 118,
     "metadata": {},
     "output_type": "execute_result"
    }
   ],
   "source": [
    "count_alt"
   ]
  },
  {
   "cell_type": "code",
   "execution_count": 115,
   "metadata": {
    "scrolled": true
   },
   "outputs": [
    {
     "data": {
      "text/plain": [
       "Text(0.5, 1.0, 'Altitude vs a/c count')"
      ]
     },
     "execution_count": 115,
     "metadata": {},
     "output_type": "execute_result"
    },
    {
     "data": {
      "image/png": "[encoded data removed]",
      "text/plain": [
       "<Figure size 432x288 with 1 Axes>"
      ]
     },
     "metadata": {
      "needs_background": "light"
     },
     "output_type": "display_data"
    }
   ],
   "source": [
    "# # of incidents recorded that damaged a/c at each altitude bins available\n",
    "count_alt0 = DataFrame({'count':bird_dmg.groupby('Altitude bin').size()}).reset_index()\n",
    "\n",
    "fig_alt_dmg = sns.barplot(x='Altitude bin',y='count',data=count_alt0)\n",
    "fig_alt_dmg.set(xlabel = 'Altitude of aircraft',ylabel='count of a/c in the altitude')\n",
    "fig_alt_dmg.set_title('Altitude vs a/c count')"
   ]
  },
  {
   "cell_type": "code",
   "execution_count": 117,
   "metadata": {},
   "outputs": [
    {
     "data": {
      "text/plain": [
       "24559"
      ]
     },
     "execution_count": 117,
     "metadata": {},
     "output_type": "execute_result"
    }
   ],
   "source": [
    "bird['When: Phase of flight'].isna().sum()"
   ]
  },
  {
   "cell_type": "code",
   "execution_count": 129,
   "metadata": {
    "scrolled": true
   },
   "outputs": [
    {
     "data": {
      "text/plain": [
       "Text(0.5, 1.0, 'Phase of flight vs incidents observed')"
      ]
     },
     "execution_count": 129,
     "metadata": {},
     "output_type": "execute_result"
    },
    {
     "data": {
      "image/png": "[encoded data removed]",
      "text/plain": [
       "<Figure size 432x288 with 1 Axes>"
      ]
     },
     "metadata": {
      "needs_background": "light"
     },
     "output_type": "display_data"
    }
   ],
   "source": [
    "# Retrieve # of incident details based on the phase of flight information\n",
    "count_phase_info = DataFrame({'count':bird.groupby('When: Phase of flight').size()}).reset_index()\n",
    "\n",
    "fig_count_phase = sns.barplot(x='When: Phase of flight',y='count',data=count_phase_info)\n",
    "fig_count_phase.set_xticklabels(labels=count_phase_info['When: Phase of flight'],rotation=30);\n",
    "fig_count_phase.set(xlabel='Phase of flight', ylabel='# of incidents observed')\n",
    "fig_count_phase.set_title('Phase of flight vs incidents observed')\n"
   ]
  },
  {
   "cell_type": "code",
   "execution_count": 140,
   "metadata": {
    "scrolled": true
   },
   "outputs": [
    {
     "data": {
      "text/plain": [
       "Text(0.5, 1.0, 'Phase of flight vs incidents observed')"
      ]
     },
     "execution_count": 140,
     "metadata": {},
     "output_type": "execute_result"
    },
    {
     "data": {
      "image/png": "[encoded data removed]",
      "text/plain": [
       "<Figure size 432x288 with 1 Axes>"
      ]
     },
     "metadata": {
      "needs_background": "light"
     },
     "output_type": "display_data"
    }
   ],
   "source": [
    "# Retrieve # of incident details that caused a/c damage based on the phase of flight information\n",
    "count_phase_info0 = DataFrame({'count':bird_dmg.groupby('When: Phase of flight').size()}).reset_index()\n",
    "\n",
    "fig_count_phase0 = sns.barplot(x='When: Phase of flight',y='count',data=count_phase_info0)\n",
    "fig_count_phase0.set(xlabel='Phase of flight', ylabel='# of damaged incidents observed')\n",
    "plt.setp(fig_count_phase0.get_xticklabels(), rotation=90)\n",
    "fig_count_phase0.set_title('Phase of flight vs incidents observed')"
   ]
  },
  {
   "cell_type": "code",
   "execution_count": 138,
   "metadata": {},
   "outputs": [
    {
     "data": {
      "text/plain": [
       "Text(0.5, 1.0, 'Phase of flight vs AGL')"
      ]
     },
     "execution_count": 138,
     "metadata": {},
     "output_type": "execute_result"
    },
    {
     "data": {
      "image/png": "[encoded data removed]",
      "text/plain": [
       "<Figure size 432x288 with 1 Axes>"
      ]
     },
     "metadata": {
      "needs_background": "light"
     },
     "output_type": "display_data"
    }
   ],
   "source": [
    "# Draw box plot to see the a/c altitude when the strike is reported\n",
    "fig_agl = sns.boxplot(x='When: Phase of flight',y='Feet above ground',data=bird)\n",
    "fig_agl.set_xticklabels(fig_agl.get_xticklabels(), rotation=90);\n",
    "fig_agl.set(xlabel='Phase of flight',ylabel='Above Ground Level')\n",
    "fig_agl.set_title('Phase of flight vs AGL')"
   ]
  },
  {
   "cell_type": "code",
   "execution_count": 139,
   "metadata": {
    "scrolled": true
   },
   "outputs": [
    {
     "data": {
      "text/plain": [
       "Text(0.5, 1.0, 'Phase of flight vs AGL')"
      ]
     },
     "execution_count": 139,
     "metadata": {},
     "output_type": "execute_result"
    },
    {
     "data": {
      "image/png": "[encoded data removed]",
      "text/plain": [
       "<Figure size 432x288 with 1 Axes>"
      ]
     },
     "metadata": {
      "needs_background": "light"
     },
     "output_type": "display_data"
    }
   ],
   "source": [
    "# Draw box plot to see the a/c altitude when the strike with damage is reported\n",
    "\n",
    "fig_agl0 = sns.boxplot(x='When: Phase of flight',y='Feet above ground',data=bird_dmg)\n",
    "fig_agl0.set_xticklabels(fig_agl0.get_xticklabels(), rotation=90);\n",
    "fig_agl0.set(xlabel='Phase of flight',ylabel='Above Ground Level')\n",
    "fig_agl0.set_title('Phase of flight vs AGL')"
   ]
  },
  {
   "cell_type": "code",
   "execution_count": 141,
   "metadata": {},
   "outputs": [
    {
     "data": {
      "text/plain": [
       "Text(0.5, 1.0, 'Phase of flight vs Miles from Airport')"
      ]
     },
     "execution_count": 141,
     "metadata": {},
     "output_type": "execute_result"
    },
    {
     "data": {
      "image/png": "[encoded data removed]",
      "text/plain": [
       "<Figure size 432x288 with 1 Axes>"
      ]
     },
     "metadata": {
      "needs_background": "light"
     },
     "output_type": "display_data"
    }
   ],
   "source": [
    "# Draw box plot to see the a/c distance from the airport when the strike is reported\n",
    "\n",
    "fig_dist = sns.boxplot(x='When: Phase of flight',y='Miles from airport',data=bird)\n",
    "fig_dist.set_xticklabels(fig_dist.get_xticklabels(), rotation=90);\n",
    "fig_dist.set(xlabel='Phase of flight',ylabel='Miles from airport')\n",
    "fig_dist.set_title('Phase of flight vs Miles from Airport')"
   ]
  },
  {
   "cell_type": "code",
   "execution_count": 142,
   "metadata": {},
   "outputs": [
    {
     "data": {
      "text/plain": [
       "Text(0.5, 1.0, 'Phase of flight vs Miles from Airport')"
      ]
     },
     "execution_count": 142,
     "metadata": {},
     "output_type": "execute_result"
    },
    {
     "data": {
      "image/png": "[encoded data removed]",
      "text/plain": [
       "<Figure size 432x288 with 1 Axes>"
      ]
     },
     "metadata": {
      "needs_background": "light"
     },
     "output_type": "display_data"
    }
   ],
   "source": [
    "# Draw box plot to see the a/c distance from the airport when the strike reported is resulted to a/c damage\n",
    "fig_dist0 = sns.boxplot(x='When: Phase of flight',y='Miles from airport',data=bird_dmg)\n",
    "fig_dist0.set_xticklabels(fig_dist0.get_xticklabels(), rotation=90);\n",
    "fig_dist0.set(xlabel='Phase of flight',ylabel='Miles from airport')\n",
    "fig_dist0.set_title('Phase of flight vs Miles from Airport')"
   ]
  },
  {
   "cell_type": "code",
   "execution_count": 148,
   "metadata": {},
   "outputs": [
    {
     "data": {
      "text/plain": [
       "Text(0.5, 1.0, 'Miles from airport vs AGL')"
      ]
     },
     "execution_count": 148,
     "metadata": {},
     "output_type": "execute_result"
    },
    {
     "data": {
      "image/png": "[encoded data removed]",
      "text/plain": [
       "<Figure size 432x288 with 1 Axes>"
      ]
     },
     "metadata": {
      "needs_background": "light"
     },
     "output_type": "display_data"
    }
   ],
   "source": [
    "# Draw scatter plot of altitude vs distance\n",
    "bird1 = bird.loc[(~bird['Miles from airport'].isnull()) &\n",
    "                        (~bird['Feet above ground'].isnull()) ]\n",
    "fig_alt_dist = sns.scatterplot(x='Miles from airport',y='Feet above ground',data=bird1)\n",
    "fig_alt_dist.set(xlabel = 'Miles from airport',ylabel='AGL')\n",
    "fig_alt_dist.set_title('Miles from airport vs AGL')"
   ]
  },
  {
   "cell_type": "code",
   "execution_count": 150,
   "metadata": {},
   "outputs": [
    {
     "data": {
      "text/plain": [
       "Text(0.5, 1.0, 'Miles from airport vs AGL')"
      ]
     },
     "execution_count": 150,
     "metadata": {},
     "output_type": "execute_result"
    },
    {
     "data": {
      "image/png": "[encoded data removed]",
      "text/plain": [
       "<Figure size 432x288 with 1 Axes>"
      ]
     },
     "metadata": {
      "needs_background": "light"
     },
     "output_type": "display_data"
    }
   ],
   "source": [
    "# Draw scatter plot of altitude vs distance for damaged strikes\n",
    "bird2 = bird_dmg.loc[(~bird_dmg['Miles from airport'].isnull()) &\n",
    "                        (~bird_dmg['Feet above ground'].isnull()) ]\n",
    "fig_alt_dist0 = sns.scatterplot(x='Miles from airport',y='Feet above ground',data=bird2)\n",
    "fig_alt_dist0.set(xlabel = 'Miles from airport',ylabel='AGL')\n",
    "fig_alt_dist0.set_title('Miles from airport vs AGL')"
   ]
  },
  {
   "cell_type": "code",
   "execution_count": 163,
   "metadata": {},
   "outputs": [
    {
     "data": {
      "image/png": "[encoded data removed]",
      "text/plain": [
       "<Figure size 432x288 with 1 Axes>"
      ]
     },
     "metadata": {
      "needs_background": "light"
     },
     "output_type": "display_data"
    }
   ],
   "source": [
    "# Draw histogram of the speeds reported during the strike time\n",
    "fig_spd_plt = sns.distplot(bird['Speed (IAS) in knots'].dropna(),kde=False)"
   ]
  },
  {
   "cell_type": "code",
   "execution_count": 164,
   "metadata": {},
   "outputs": [
    {
     "data": {
      "image/png": "[encoded data removed]",
      "text/plain": [
       "<Figure size 432x288 with 1 Axes>"
      ]
     },
     "metadata": {
      "needs_background": "light"
     },
     "output_type": "display_data"
    }
   ],
   "source": [
    "# Draw histogram of the speeds reported for damaged strikes\n",
    "fig_spd_plt0 = sns.distplot(bird_dmg['Speed (IAS) in knots'].dropna(),kde=False)"
   ]
  },
  {
   "cell_type": "markdown",
   "metadata": {},
   "source": [
    "### 3.4 What are the geological locations of bird strikes? <a name=\"descriptive5\"></a>\n",
    "\n",
    "_Airport: Name_ will be analyzed for this question. The table below shows the top 10 airports of all bird strikes.  "
   ]
  },
  {
   "cell_type": "code",
   "execution_count": 168,
   "metadata": {},
   "outputs": [
    {
     "data": {
      "text/html": [
       "<div>\n",
       "<style scoped>\n",
       "    .dataframe tbody tr th:only-of-type {\n",
       "        vertical-align: middle;\n",
       "    }\n",
       "\n",
       "    .dataframe tbody tr th {\n",
       "        vertical-align: top;\n",
       "    }\n",
       "\n",
       "    .dataframe thead th {\n",
       "        text-align: right;\n",
       "    }\n",
       "</style>\n",
       "<table border=\"1\" class=\"dataframe\">\n",
       "  <thead>\n",
       "    <tr style=\"text-align: right;\">\n",
       "      <th></th>\n",
       "      <th>Airport: Name</th>\n",
       "      <th>count</th>\n",
       "    </tr>\n",
       "  </thead>\n",
       "  <tbody>\n",
       "    <tr>\n",
       "      <th>1336</th>\n",
       "      <td>UNKNOWN</td>\n",
       "      <td>5989</td>\n",
       "    </tr>\n",
       "    <tr>\n",
       "      <th>312</th>\n",
       "      <td>DENVER INTL AIRPORT</td>\n",
       "      <td>2351</td>\n",
       "    </tr>\n",
       "    <tr>\n",
       "      <th>285</th>\n",
       "      <td>DALLAS/FORT WORTH INTL ARPT</td>\n",
       "      <td>1819</td>\n",
       "    </tr>\n",
       "    <tr>\n",
       "      <th>825</th>\n",
       "      <td>MEMPHIS INTL</td>\n",
       "      <td>1234</td>\n",
       "    </tr>\n",
       "    <tr>\n",
       "      <th>630</th>\n",
       "      <td>JOHN F KENNEDY INTL</td>\n",
       "      <td>1228</td>\n",
       "    </tr>\n",
       "    <tr>\n",
       "      <th>220</th>\n",
       "      <td>CHICAGO O'HARE INTL ARPT</td>\n",
       "      <td>1124</td>\n",
       "    </tr>\n",
       "    <tr>\n",
       "      <th>1132</th>\n",
       "      <td>SACRAMENTO INTL</td>\n",
       "      <td>1041</td>\n",
       "    </tr>\n",
       "    <tr>\n",
       "      <th>758</th>\n",
       "      <td>LOUISVILLE INTL ARPT</td>\n",
       "      <td>964</td>\n",
       "    </tr>\n",
       "    <tr>\n",
       "      <th>1138</th>\n",
       "      <td>SALT LAKE CITY INTL</td>\n",
       "      <td>849</td>\n",
       "    </tr>\n",
       "    <tr>\n",
       "      <th>647</th>\n",
       "      <td>KANSAS CITY INTL</td>\n",
       "      <td>846</td>\n",
       "    </tr>\n",
       "  </tbody>\n",
       "</table>\n",
       "</div>"
      ],
      "text/plain": [
       "                    Airport: Name  count\n",
       "1336                      UNKNOWN   5989\n",
       "312           DENVER INTL AIRPORT   2351\n",
       "285   DALLAS/FORT WORTH INTL ARPT   1819\n",
       "825                  MEMPHIS INTL   1234\n",
       "630           JOHN F KENNEDY INTL   1228\n",
       "220      CHICAGO O'HARE INTL ARPT   1124\n",
       "1132              SACRAMENTO INTL   1041\n",
       "758          LOUISVILLE INTL ARPT    964\n",
       "1138          SALT LAKE CITY INTL    849\n",
       "647              KANSAS CITY INTL    846"
      ]
     },
     "execution_count": 168,
     "metadata": {},
     "output_type": "execute_result"
    }
   ],
   "source": [
    "count_apt = DataFrame({'count':bird.groupby('Airport: Name').size()}).reset_index()\n",
    "count_apt.sort_values('count',ascending=False).head(10)"
   ]
  },
  {
   "cell_type": "code",
   "execution_count": 171,
   "metadata": {},
   "outputs": [
    {
     "data": {
      "text/html": [
       "<div>\n",
       "<style scoped>\n",
       "    .dataframe tbody tr th:only-of-type {\n",
       "        vertical-align: middle;\n",
       "    }\n",
       "\n",
       "    .dataframe tbody tr th {\n",
       "        vertical-align: top;\n",
       "    }\n",
       "\n",
       "    .dataframe thead th {\n",
       "        text-align: right;\n",
       "    }\n",
       "</style>\n",
       "<table border=\"1\" class=\"dataframe\">\n",
       "  <thead>\n",
       "    <tr style=\"text-align: right;\">\n",
       "      <th></th>\n",
       "      <th>Airport: Name</th>\n",
       "      <th>count</th>\n",
       "    </tr>\n",
       "  </thead>\n",
       "  <tbody>\n",
       "    <tr>\n",
       "      <th>842</th>\n",
       "      <td>UNKNOWN</td>\n",
       "      <td>871</td>\n",
       "    </tr>\n",
       "    <tr>\n",
       "      <th>712</th>\n",
       "      <td>SACRAMENTO INTL</td>\n",
       "      <td>120</td>\n",
       "    </tr>\n",
       "    <tr>\n",
       "      <th>610</th>\n",
       "      <td>ORLANDO INTL</td>\n",
       "      <td>88</td>\n",
       "    </tr>\n",
       "    <tr>\n",
       "      <th>716</th>\n",
       "      <td>SALT LAKE CITY INTL</td>\n",
       "      <td>83</td>\n",
       "    </tr>\n",
       "    <tr>\n",
       "      <th>383</th>\n",
       "      <td>JOHN F KENNEDY INTL</td>\n",
       "      <td>80</td>\n",
       "    </tr>\n",
       "    <tr>\n",
       "      <th>512</th>\n",
       "      <td>MEMPHIS INTL</td>\n",
       "      <td>79</td>\n",
       "    </tr>\n",
       "    <tr>\n",
       "      <th>202</th>\n",
       "      <td>DENVER INTL AIRPORT</td>\n",
       "      <td>79</td>\n",
       "    </tr>\n",
       "    <tr>\n",
       "      <th>139</th>\n",
       "      <td>CHICAGO O'HARE INTL ARPT</td>\n",
       "      <td>72</td>\n",
       "    </tr>\n",
       "    <tr>\n",
       "      <th>184</th>\n",
       "      <td>DALLAS/FORT WORTH INTL ARPT</td>\n",
       "      <td>51</td>\n",
       "    </tr>\n",
       "    <tr>\n",
       "      <th>721</th>\n",
       "      <td>SAN FRANCISCO INTL ARPT</td>\n",
       "      <td>47</td>\n",
       "    </tr>\n",
       "    <tr>\n",
       "      <th>465</th>\n",
       "      <td>LOS ANGELES INTL</td>\n",
       "      <td>41</td>\n",
       "    </tr>\n",
       "    <tr>\n",
       "      <th>266</th>\n",
       "      <td>FORT LAUDERDALE/HOLLYWOOD INTL</td>\n",
       "      <td>40</td>\n",
       "    </tr>\n",
       "    <tr>\n",
       "      <th>423</th>\n",
       "      <td>LAGUARDIA NY</td>\n",
       "      <td>39</td>\n",
       "    </tr>\n",
       "    <tr>\n",
       "      <th>41</th>\n",
       "      <td>ATLANTA INTL</td>\n",
       "      <td>39</td>\n",
       "    </tr>\n",
       "    <tr>\n",
       "      <th>864</th>\n",
       "      <td>WASHINGTON DULLES INTL ARPT</td>\n",
       "      <td>39</td>\n",
       "    </tr>\n",
       "    <tr>\n",
       "      <th>573</th>\n",
       "      <td>NEWARK LIBERTY INTL ARPT</td>\n",
       "      <td>38</td>\n",
       "    </tr>\n",
       "    <tr>\n",
       "      <th>570</th>\n",
       "      <td>NEW ORLEANS INTL</td>\n",
       "      <td>37</td>\n",
       "    </tr>\n",
       "    <tr>\n",
       "      <th>50</th>\n",
       "      <td>BALTIMORE WASH INTL</td>\n",
       "      <td>36</td>\n",
       "    </tr>\n",
       "    <tr>\n",
       "      <th>468</th>\n",
       "      <td>LOUISVILLE INTL ARPT</td>\n",
       "      <td>36</td>\n",
       "    </tr>\n",
       "    <tr>\n",
       "      <th>660</th>\n",
       "      <td>PORTLAND INTL (OR)</td>\n",
       "      <td>36</td>\n",
       "    </tr>\n",
       "  </tbody>\n",
       "</table>\n",
       "</div>"
      ],
      "text/plain": [
       "                      Airport: Name  count\n",
       "842                         UNKNOWN    871\n",
       "712                 SACRAMENTO INTL    120\n",
       "610                    ORLANDO INTL     88\n",
       "716             SALT LAKE CITY INTL     83\n",
       "383             JOHN F KENNEDY INTL     80\n",
       "512                    MEMPHIS INTL     79\n",
       "202             DENVER INTL AIRPORT     79\n",
       "139        CHICAGO O'HARE INTL ARPT     72\n",
       "184     DALLAS/FORT WORTH INTL ARPT     51\n",
       "721         SAN FRANCISCO INTL ARPT     47\n",
       "465                LOS ANGELES INTL     41\n",
       "266  FORT LAUDERDALE/HOLLYWOOD INTL     40\n",
       "423                    LAGUARDIA NY     39\n",
       "41                     ATLANTA INTL     39\n",
       "864     WASHINGTON DULLES INTL ARPT     39\n",
       "573        NEWARK LIBERTY INTL ARPT     38\n",
       "570                NEW ORLEANS INTL     37\n",
       "50              BALTIMORE WASH INTL     36\n",
       "468            LOUISVILLE INTL ARPT     36\n",
       "660              PORTLAND INTL (OR)     36"
      ]
     },
     "execution_count": 171,
     "metadata": {},
     "output_type": "execute_result"
    }
   ],
   "source": [
    "count_apt0 = DataFrame({'count':bird_dmg.groupby('Airport: Name').size()}).reset_index()\n",
    "count_apt0.sort_values('count',ascending=False).head(20)"
   ]
  },
  {
   "cell_type": "markdown",
   "metadata": {},
   "source": [
    "### 3.5 What times do bird strikes occur? <a name=\"descriptive6\"></a>\n",
    "\n",
    "Three variables, including _FlightDate_, _When: Time (HHMM)_, and _When: Time of day_, are used to answer this question. First, the flight date variable is engineered into two features: the year of the flight and the month of the flight. Year information can be used to understand the trend of bird strikes over time, while the month information along with migration input can be used to understand whether bird migration plays a key role in bird strikes.\n",
    "\n",
    "First, a heatmap of strike frequency over flight month and flight year is shown for all strikes:"
   ]
  },
  {
   "cell_type": "code",
   "execution_count": 176,
   "metadata": {},
   "outputs": [
    {
     "data": {
      "text/html": [
       "<div>\n",
       "<style scoped>\n",
       "    .dataframe tbody tr th:only-of-type {\n",
       "        vertical-align: middle;\n",
       "    }\n",
       "\n",
       "    .dataframe tbody tr th {\n",
       "        vertical-align: top;\n",
       "    }\n",
       "\n",
       "    .dataframe thead th {\n",
       "        text-align: right;\n",
       "    }\n",
       "</style>\n",
       "<table border=\"1\" class=\"dataframe\">\n",
       "  <thead>\n",
       "    <tr style=\"text-align: right;\">\n",
       "      <th></th>\n",
       "      <th>When: Time of day</th>\n",
       "      <th>count</th>\n",
       "    </tr>\n",
       "  </thead>\n",
       "  <tbody>\n",
       "    <tr>\n",
       "      <th>1</th>\n",
       "      <td>Day</td>\n",
       "      <td>25269</td>\n",
       "    </tr>\n",
       "    <tr>\n",
       "      <th>3</th>\n",
       "      <td>Night</td>\n",
       "      <td>13623</td>\n",
       "    </tr>\n",
       "    <tr>\n",
       "      <th>2</th>\n",
       "      <td>Dusk</td>\n",
       "      <td>1759</td>\n",
       "    </tr>\n",
       "    <tr>\n",
       "      <th>0</th>\n",
       "      <td>Dawn</td>\n",
       "      <td>1207</td>\n",
       "    </tr>\n",
       "  </tbody>\n",
       "</table>\n",
       "</div>"
      ],
      "text/plain": [
       "  When: Time of day  count\n",
       "1               Day  25269\n",
       "3             Night  13623\n",
       "2              Dusk   1759\n",
       "0              Dawn   1207"
      ]
     },
     "execution_count": 176,
     "metadata": {},
     "output_type": "execute_result"
    }
   ],
   "source": [
    "# Time of the incident reported\n",
    "count_time = DataFrame({'count':bird.groupby('When: Time of day').size()}).reset_index()\n",
    "count_time.sort_values('count',ascending=False).head(10)"
   ]
  },
  {
   "cell_type": "code",
   "execution_count": 177,
   "metadata": {
    "scrolled": true
   },
   "outputs": [
    {
     "data": {
      "text/html": [
       "<div>\n",
       "<style scoped>\n",
       "    .dataframe tbody tr th:only-of-type {\n",
       "        vertical-align: middle;\n",
       "    }\n",
       "\n",
       "    .dataframe tbody tr th {\n",
       "        vertical-align: top;\n",
       "    }\n",
       "\n",
       "    .dataframe thead th {\n",
       "        text-align: right;\n",
       "    }\n",
       "</style>\n",
       "<table border=\"1\" class=\"dataframe\">\n",
       "  <thead>\n",
       "    <tr style=\"text-align: right;\">\n",
       "      <th></th>\n",
       "      <th>When: Time of day</th>\n",
       "      <th>count</th>\n",
       "    </tr>\n",
       "  </thead>\n",
       "  <tbody>\n",
       "    <tr>\n",
       "      <th>1</th>\n",
       "      <td>Day</td>\n",
       "      <td>2500</td>\n",
       "    </tr>\n",
       "    <tr>\n",
       "      <th>3</th>\n",
       "      <td>Night</td>\n",
       "      <td>1458</td>\n",
       "    </tr>\n",
       "    <tr>\n",
       "      <th>2</th>\n",
       "      <td>Dusk</td>\n",
       "      <td>185</td>\n",
       "    </tr>\n",
       "    <tr>\n",
       "      <th>0</th>\n",
       "      <td>Dawn</td>\n",
       "      <td>118</td>\n",
       "    </tr>\n",
       "  </tbody>\n",
       "</table>\n",
       "</div>"
      ],
      "text/plain": [
       "  When: Time of day  count\n",
       "1               Day   2500\n",
       "3             Night   1458\n",
       "2              Dusk    185\n",
       "0              Dawn    118"
      ]
     },
     "execution_count": 177,
     "metadata": {},
     "output_type": "execute_result"
    }
   ],
   "source": [
    "# Time of the incident that resulted a/c damage\n",
    "count_time0 = DataFrame({'count':bird_dmg.groupby('When: Time of day').size()}).reset_index()\n",
    "count_time0.sort_values('count',ascending=False).head(10)"
   ]
  },
  {
   "cell_type": "code",
   "execution_count": 182,
   "metadata": {},
   "outputs": [],
   "source": [
    "# month variable\n",
    "bird['Flight Month'] = pd.DatetimeIndex(bird['FlightDate']).month\n",
    "# year variable\n",
    "bird['Flight Year'] = pd.DatetimeIndex(bird['FlightDate']).year\n",
    "\n",
    "# subset the data with any damage or negative impact to the flight\n",
    "bird_dmg = bird.loc[(bird['Effect: Indicated Damage'] != 'No damage') | \n",
    "                    (bird['Cost: Total $'] > 0) ]"
   ]
  },
  {
   "cell_type": "code",
   "execution_count": 180,
   "metadata": {},
   "outputs": [
    {
     "data": {
      "image/png": "[encoded data removed]",
      "text/plain": [
       "<Figure size 576x504 with 2 Axes>"
      ]
     },
     "metadata": {
      "needs_background": "light"
     },
     "output_type": "display_data"
    }
   ],
   "source": [
    "# count over flight month and year\n",
    "count_time = DataFrame({'count' : bird.groupby( ['Flight Month', 'Flight Year'] ).size()}).reset_index()\n",
    "# reshape frame\n",
    "count_time_p=count_time.pivot(\"Flight Month\", \"Flight Year\", \"count\")\n",
    "# plot the frequency over month and year in a heat map\n",
    "plt.figure(figsize=(8, 7))\n",
    "heat_time = sns.heatmap(count_time_p);\n",
    "heat_time.set_title('The Frequency of All Strikes Over Flight Year and Month');"
   ]
  },
  {
   "cell_type": "code",
   "execution_count": 183,
   "metadata": {},
   "outputs": [
    {
     "data": {
      "image/png": "[encoded data removed]",
      "text/plain": [
       "<Figure size 576x504 with 2 Axes>"
      ]
     },
     "metadata": {
      "needs_background": "light"
     },
     "output_type": "display_data"
    }
   ],
   "source": [
    "# count over flight month and year\n",
    "count_time0 = DataFrame({'count' : bird_dmg.groupby( ['Flight Month', 'Flight Year'] ).size()}).reset_index()\n",
    "# reshape frame\n",
    "count_time_p0=count_time0.pivot(\"Flight Month\", \"Flight Year\", \"count\")\n",
    "# plot the frequency over month and year in a heat map\n",
    "plt.figure(figsize=(8, 7))\n",
    "heat_time0 = sns.heatmap(count_time_p0);\n",
    "heat_time0.set_title('The Frequency of Damaging Strikes Over Flight Year and Month');"
   ]
  },
  {
   "cell_type": "code",
   "execution_count": 189,
   "metadata": {},
   "outputs": [
    {
     "data": {
      "text/html": [
       "<div>\n",
       "<style scoped>\n",
       "    .dataframe tbody tr th:only-of-type {\n",
       "        vertical-align: middle;\n",
       "    }\n",
       "\n",
       "    .dataframe tbody tr th {\n",
       "        vertical-align: top;\n",
       "    }\n",
       "\n",
       "    .dataframe thead th {\n",
       "        text-align: right;\n",
       "    }\n",
       "</style>\n",
       "<table border=\"1\" class=\"dataframe\">\n",
       "  <thead>\n",
       "    <tr style=\"text-align: right;\">\n",
       "      <th>Flight Year</th>\n",
       "      <th>2005</th>\n",
       "      <th>2006</th>\n",
       "      <th>2007</th>\n",
       "      <th>2008</th>\n",
       "      <th>2009</th>\n",
       "      <th>2010</th>\n",
       "      <th>2011</th>\n",
       "    </tr>\n",
       "    <tr>\n",
       "      <th>Flight Month</th>\n",
       "      <th></th>\n",
       "      <th></th>\n",
       "      <th></th>\n",
       "      <th></th>\n",
       "      <th></th>\n",
       "      <th></th>\n",
       "      <th></th>\n",
       "    </tr>\n",
       "  </thead>\n",
       "  <tbody>\n",
       "    <tr>\n",
       "      <th>1</th>\n",
       "      <td>39</td>\n",
       "      <td>29</td>\n",
       "      <td>33</td>\n",
       "      <td>37</td>\n",
       "      <td>33</td>\n",
       "      <td>35</td>\n",
       "      <td>48</td>\n",
       "    </tr>\n",
       "    <tr>\n",
       "      <th>2</th>\n",
       "      <td>27</td>\n",
       "      <td>26</td>\n",
       "      <td>20</td>\n",
       "      <td>43</td>\n",
       "      <td>31</td>\n",
       "      <td>26</td>\n",
       "      <td>24</td>\n",
       "    </tr>\n",
       "    <tr>\n",
       "      <th>3</th>\n",
       "      <td>64</td>\n",
       "      <td>67</td>\n",
       "      <td>62</td>\n",
       "      <td>70</td>\n",
       "      <td>77</td>\n",
       "      <td>58</td>\n",
       "      <td>40</td>\n",
       "    </tr>\n",
       "    <tr>\n",
       "      <th>4</th>\n",
       "      <td>65</td>\n",
       "      <td>70</td>\n",
       "      <td>56</td>\n",
       "      <td>68</td>\n",
       "      <td>89</td>\n",
       "      <td>62</td>\n",
       "      <td>67</td>\n",
       "    </tr>\n",
       "    <tr>\n",
       "      <th>5</th>\n",
       "      <td>60</td>\n",
       "      <td>52</td>\n",
       "      <td>67</td>\n",
       "      <td>56</td>\n",
       "      <td>67</td>\n",
       "      <td>59</td>\n",
       "      <td>48</td>\n",
       "    </tr>\n",
       "    <tr>\n",
       "      <th>6</th>\n",
       "      <td>40</td>\n",
       "      <td>33</td>\n",
       "      <td>52</td>\n",
       "      <td>43</td>\n",
       "      <td>54</td>\n",
       "      <td>47</td>\n",
       "      <td>37</td>\n",
       "    </tr>\n",
       "    <tr>\n",
       "      <th>7</th>\n",
       "      <td>48</td>\n",
       "      <td>51</td>\n",
       "      <td>62</td>\n",
       "      <td>55</td>\n",
       "      <td>60</td>\n",
       "      <td>61</td>\n",
       "      <td>52</td>\n",
       "    </tr>\n",
       "    <tr>\n",
       "      <th>8</th>\n",
       "      <td>61</td>\n",
       "      <td>70</td>\n",
       "      <td>68</td>\n",
       "      <td>59</td>\n",
       "      <td>67</td>\n",
       "      <td>76</td>\n",
       "      <td>80</td>\n",
       "    </tr>\n",
       "    <tr>\n",
       "      <th>9</th>\n",
       "      <td>79</td>\n",
       "      <td>70</td>\n",
       "      <td>76</td>\n",
       "      <td>66</td>\n",
       "      <td>74</td>\n",
       "      <td>80</td>\n",
       "      <td>98</td>\n",
       "    </tr>\n",
       "    <tr>\n",
       "      <th>10</th>\n",
       "      <td>83</td>\n",
       "      <td>79</td>\n",
       "      <td>102</td>\n",
       "      <td>63</td>\n",
       "      <td>96</td>\n",
       "      <td>85</td>\n",
       "      <td>90</td>\n",
       "    </tr>\n",
       "    <tr>\n",
       "      <th>11</th>\n",
       "      <td>77</td>\n",
       "      <td>74</td>\n",
       "      <td>61</td>\n",
       "      <td>70</td>\n",
       "      <td>63</td>\n",
       "      <td>72</td>\n",
       "      <td>67</td>\n",
       "    </tr>\n",
       "    <tr>\n",
       "      <th>12</th>\n",
       "      <td>51</td>\n",
       "      <td>48</td>\n",
       "      <td>34</td>\n",
       "      <td>50</td>\n",
       "      <td>57</td>\n",
       "      <td>40</td>\n",
       "      <td>40</td>\n",
       "    </tr>\n",
       "  </tbody>\n",
       "</table>\n",
       "</div>"
      ],
      "text/plain": [
       "Flight Year   2005  2006  2007  2008  2009  2010  2011\n",
       "Flight Month                                          \n",
       "1               39    29    33    37    33    35    48\n",
       "2               27    26    20    43    31    26    24\n",
       "3               64    67    62    70    77    58    40\n",
       "4               65    70    56    68    89    62    67\n",
       "5               60    52    67    56    67    59    48\n",
       "6               40    33    52    43    54    47    37\n",
       "7               48    51    62    55    60    61    52\n",
       "8               61    70    68    59    67    76    80\n",
       "9               79    70    76    66    74    80    98\n",
       "10              83    79   102    63    96    85    90\n",
       "11              77    74    61    70    63    72    67\n",
       "12              51    48    34    50    57    40    40"
      ]
     },
     "execution_count": 189,
     "metadata": {},
     "output_type": "execute_result"
    }
   ],
   "source": [
    "# count over flight month and year\n",
    "count_time1 = DataFrame({'count' : bird_dmg.groupby( ['Flight Month', 'Flight Year'] ).size()}).reset_index()\n",
    "count_time_p1=count_time0.pivot(\"Flight Month\", \"Flight Year\", \"count\")\n",
    "count_time_p1\n"
   ]
  },
  {
   "cell_type": "markdown",
   "metadata": {},
   "source": [
    "Together, the above analyses show that bird strikes happen mostly between July and October, with an increasing trend from year 2000 to year 2011. The increasing trend over the years could be due to increasing air traffic. Damaging strikes can also happen between March and May, with a relatively stable trend over the years.\n",
    "\n",
    "A histogram below shows the frequency of strikes over the time of the day in HHMM format:"
   ]
  },
  {
   "cell_type": "code",
   "execution_count": 195,
   "metadata": {},
   "outputs": [
    {
     "data": {
      "text/plain": [
       "Text(0.5, 1.0, 'The Frequency of All Strikes Over Time of the Day')"
      ]
     },
     "execution_count": 195,
     "metadata": {},
     "output_type": "execute_result"
    },
    {
     "data": {
      "image/png": "[encoded data removed]",
      "text/plain": [
       "<Figure size 432x288 with 1 Axes>"
      ]
     },
     "metadata": {
      "needs_background": "light"
     },
     "output_type": "display_data"
    }
   ],
   "source": [
    "# Histogram of the time information\n",
    "\n",
    "time_hist = sns.distplot(bird['When: Time (HHMM)'].dropna(),kde=False)\n",
    "time_hist.set(ylabel='Counts - All Strikes')\n",
    "time_hist.set_title('The Frequency of All Strikes Over Time of the Day')"
   ]
  },
  {
   "cell_type": "code",
   "execution_count": 196,
   "metadata": {},
   "outputs": [
    {
     "data": {
      "text/plain": [
       "Text(0.5, 1.0, 'The Frequency of All Strikes Over Time of the Day')"
      ]
     },
     "execution_count": 196,
     "metadata": {},
     "output_type": "execute_result"
    },
    {
     "data": {
      "image/png": "[encoded data removed]",
      "text/plain": [
       "<Figure size 432x288 with 1 Axes>"
      ]
     },
     "metadata": {
      "needs_background": "light"
     },
     "output_type": "display_data"
    }
   ],
   "source": [
    "# Histogram of the time information\n",
    "\n",
    "time_hist0 = sns.distplot(bird_dmg['When: Time (HHMM)'].dropna(),kde=False)\n",
    "time_hist0.set(ylabel='Counts - All Strikes')\n",
    "time_hist0.set_title('The Frequency of All Strikes Over Time of the Day')"
   ]
  },
  {
   "cell_type": "markdown",
   "metadata": {},
   "source": [
    "### 3.6 What are the consequences of bird strikes? <a name=\"descriptive7\"></a>\n",
    "\n",
    "Several aspects of the consequences are considered, including financial cost (_Cost: Total \\$_) and damage (_Effect: Indicated Damage_).\n",
    "\n",
    "First, a histogram of total financial cost is shown below for all strikes. Note that the x axis is log-transformed so that the distribution is not too sparse toward the high end of cost. Only strikes with costs greater than $0 are included."
   ]
  },
  {
   "cell_type": "code",
   "execution_count": 197,
   "metadata": {
    "scrolled": true
   },
   "outputs": [
    {
     "data": {
      "image/png": "[encoded data removed]",
      "text/plain": [
       "<Figure size 432x288 with 1 Axes>"
      ]
     },
     "metadata": {
      "needs_background": "light"
     },
     "output_type": "display_data"
    }
   ],
   "source": [
    "# cost histogram\n",
    "cost = sns.distplot(np.log10(bird.loc[bird['Cost: Total $']>0,'Cost: Total $']),kde=False);\n",
    "cost.set(xlabel='Log 10 of Total Cost in Dollar', ylabel='Counts - All Strikes');\n",
    "cost.set_title('The Frequency of All Strikes Over Log Cost');"
   ]
  },
  {
   "cell_type": "code",
   "execution_count": 202,
   "metadata": {},
   "outputs": [
    {
     "data": {
      "image/png": "[encoded data removed]",
      "text/plain": [
       "<Figure size 432x288 with 1 Axes>"
      ]
     },
     "metadata": {
      "needs_background": "light"
     },
     "output_type": "display_data"
    }
   ],
   "source": [
    "# cost histogram\n",
    "cost0 = sns.distplot(np.log10(bird_dmg.loc[bird_dmg['Cost: Total $']>0,'Cost: Total $']),kde=False);\n",
    "cost0.set(xlabel='Log 10 of Total Cost in Dollar', ylabel='Counts - Damaging Strikes');\n",
    "cost0.set_title('The Frequency of Damaging Strikes Over Log Cost');"
   ]
  },
  {
   "cell_type": "markdown",
   "metadata": {},
   "source": [
    "The two histograms above are fairly similar, since most damaging strikes involve some sort of financial cost and vice versa. The table below shows a count of damage vs. no-damage strikes."
   ]
  },
  {
   "cell_type": "code",
   "execution_count": 206,
   "metadata": {
    "scrolled": false
   },
   "outputs": [
    {
     "data": {
      "text/html": [
       "<div>\n",
       "<style scoped>\n",
       "    .dataframe tbody tr th:only-of-type {\n",
       "        vertical-align: middle;\n",
       "    }\n",
       "\n",
       "    .dataframe tbody tr th {\n",
       "        vertical-align: top;\n",
       "    }\n",
       "\n",
       "    .dataframe thead th {\n",
       "        text-align: right;\n",
       "    }\n",
       "</style>\n",
       "<table border=\"1\" class=\"dataframe\">\n",
       "  <thead>\n",
       "    <tr style=\"text-align: right;\">\n",
       "      <th></th>\n",
       "      <th>Effect: Indicated Damage</th>\n",
       "      <th>count</th>\n",
       "      <th>Damage Rate</th>\n",
       "    </tr>\n",
       "  </thead>\n",
       "  <tbody>\n",
       "    <tr>\n",
       "      <th>0</th>\n",
       "      <td>Caused damage</td>\n",
       "      <td>4075</td>\n",
       "      <td>0.062109</td>\n",
       "    </tr>\n",
       "    <tr>\n",
       "      <th>1</th>\n",
       "      <td>No damage</td>\n",
       "      <td>61535</td>\n",
       "      <td>0.937891</td>\n",
       "    </tr>\n",
       "  </tbody>\n",
       "</table>\n",
       "</div>"
      ],
      "text/plain": [
       "  Effect: Indicated Damage  count  Damage Rate\n",
       "0            Caused damage   4075     0.062109\n",
       "1                No damage  61535     0.937891"
      ]
     },
     "execution_count": 206,
     "metadata": {},
     "output_type": "execute_result"
    }
   ],
   "source": [
    "# damage count table\n",
    "cnt_damage = DataFrame({'count' : bird.groupby( ['Effect: Indicated Damage'] ).size()}).reset_index()\n",
    "cnt_damage['Damage Rate']=cnt_damage['count']/bird.shape[0]\n",
    "cnt_damage"
   ]
  },
  {
   "cell_type": "markdown",
   "metadata": {},
   "source": [
    "Together, these statistics show that most of the strikes do not cause damages (93.7%). However, bird strikes can cost money and even human lives at times."
   ]
  },
  {
   "cell_type": "markdown",
   "metadata": {},
   "source": [
    "### 4. Inferential Statistics <a name=\"inferential\"></a>\n",
    "\n",
    "In this section, damaging/non-damaging bird strikes will be classified using five models including Logistic Regression, Support Vector Machines, Random Forests, K-Nearest Neighbors, and Gaussian Naive Bayes. Training accuracy, testing accuracy, and cross-validation accuracy will be used to check the fit of the model.\n",
    "\n",
    "First, I will resample the data such that we have a balanced dataset. Given the large amount of missing values and the large sample size, entries with missing values are removed."
   ]
  },
  {
   "cell_type": "code",
   "execution_count": 207,
   "metadata": {},
   "outputs": [],
   "source": [
    "bird['Damage'] = 0\n",
    "bird.loc[(bird['Effect: Indicated Damage'] != 'No damage') | \n",
    "                    (bird['Cost: Total $'] > 0) ,'Damage'] = 1"
   ]
  },
  {
   "cell_type": "code",
   "execution_count": 208,
   "metadata": {},
   "outputs": [
    {
     "data": {
      "text/plain": [
       "0    60714\n",
       "1     4896\n",
       "Name: Damage, dtype: int64"
      ]
     },
     "execution_count": 208,
     "metadata": {},
     "output_type": "execute_result"
    }
   ],
   "source": [
    "bird['Damage'].value_counts()"
   ]
  },
  {
   "cell_type": "code",
   "execution_count": 209,
   "metadata": {},
   "outputs": [],
   "source": [
    "# define independent and dependent variables\n",
    "X = ['Aircraft: Number of engines?',\n",
    "     'Wildlife: Size',\n",
    "     'When: Phase of flight','Feet above ground','Miles from airport','Speed (IAS) in knots',\n",
    "     'Flight Month','Flight Year','When: Time (HHMM)',\n",
    "     'Pilot warned of birds or wildlife?']\n",
    "Y = ['Damage']\n",
    "\n",
    "# clean missing data, keep those with values on key metrics\n",
    "bird_keep = bird[np.concatenate((X,Y))].dropna(how='any')"
   ]
  },
  {
   "cell_type": "code",
   "execution_count": 215,
   "metadata": {
    "scrolled": true
   },
   "outputs": [],
   "source": [
    "# Create data frame with same number of damaged and normal incidents\n",
    "\n",
    "# list of damage indices\n",
    "damage_index = np.array(bird_keep[bird_keep[\"Damage\"]==1].index)\n",
    "\n",
    "# getting the list of normal indices from the full dataset\n",
    "normal_index = bird_keep[bird_keep[\"Damage\"]==0].index\n",
    "\n",
    "No_of_damage = len(bird_keep[bird_keep[\"Damage\"]==1])\n",
    "\n",
    "# choosing random normal indices equal to the number of damaging strikes\n",
    "normal_indices = np.array( np.random.choice(normal_index, No_of_damage, replace= False) )\n",
    "\n",
    "# concatenate damaging index and normal index to create a list of indices\n",
    "undersampled_indices = np.concatenate([damage_index, normal_indices])\n"
   ]
  },
  {
   "cell_type": "code",
   "execution_count": 222,
   "metadata": {},
   "outputs": [],
   "source": [
    "# add dummy variables for categorical variables\n",
    "wildlife_dummies = pd.get_dummies(bird_keep['Wildlife: Size'])\n",
    "bird_keep = bird_keep.join(wildlife_dummies)\n",
    "\n",
    "phase_dummies = pd.get_dummies(bird_keep['When: Phase of flight'])\n",
    "bird_keep = bird_keep.join(phase_dummies)\n",
    "\n",
    "warn_dummies = pd.get_dummies(bird_keep['Pilot warned of birds or wildlife?'])\n",
    "bird_keep = bird_keep.join(warn_dummies)\n",
    "\n",
    "#  convert engine number to numeric\n",
    "bird_keep['Aircraft: Number of engines?'] = pd.to_numeric(bird_keep['Aircraft: Number of engines?'])\n",
    "\n",
    "# scale variables before fitting our model to our dataset\n",
    "# flight year scaled by subtracting the minimum year\n",
    "bird_keep[\"Flight Year\"] = bird_keep[\"Flight Year\"] - min(bird_keep[\"Flight Year\"])\n",
    "# scale time by dividing 100 and center to the noon\n",
    "bird_keep[\"When: Time (HHMM)\"] = bird_keep[\"When: Time (HHMM)\"]/100-12\n",
    "# scale speed\n",
    "bird_keep[\"Speed (IAS) in knots\"] = scale( bird_keep[\"Speed (IAS) in knots\"], axis=0, with_mean=True, with_std=True, copy=False )"
   ]
  },
  {
   "cell_type": "code",
   "execution_count": 223,
   "metadata": {},
   "outputs": [],
   "source": [
    "# use the undersampled indices to build the undersampled_data dataframe\n",
    "undersampled_bird = bird_keep.loc[undersampled_indices, :]\n",
    "\n",
    "# drop original values after dummy variables added\n",
    "bird_use = undersampled_bird.drop(['Wildlife: Size','When: Phase of flight',\n",
    "     'Pilot warned of birds or wildlife?'],axis=1)"
   ]
  },
  {
   "cell_type": "code",
   "execution_count": 225,
   "metadata": {},
   "outputs": [
    {
     "name": "stderr",
     "output_type": "stream",
     "text": [
      "C:\\Users\\Aaradhya\\Anaconda3\\lib\\site-packages\\sklearn\\preprocessing\\data.py:645: DataConversionWarning: Data with input dtype uint8, int64, float64 were all converted to float64 by StandardScaler.\n",
      "  return self.partial_fit(X, y)\n",
      "C:\\Users\\Aaradhya\\Anaconda3\\lib\\site-packages\\ipykernel_launcher.py:4: DataConversionWarning: Data with input dtype uint8, int64, float64 were all converted to float64 by StandardScaler.\n",
      "  after removing the cwd from sys.path.\n"
     ]
    }
   ],
   "source": [
    "# scale the X_train and X_test\n",
    "X_use = bird_use.drop(\"Damage\",axis=1)\n",
    "standard_scaler = StandardScaler().fit(X_use)\n",
    "X_use1 = standard_scaler.transform(X_use) # Xs is the scaled matrix but has lost the featuren names\n",
    "X_use2 = pd.DataFrame(X_use1, columns=X_use.columns) # Add feature names"
   ]
  },
  {
   "cell_type": "code",
   "execution_count": 257,
   "metadata": {},
   "outputs": [],
   "source": [
    "# define training and testing sets\n",
    "# choosing random indices equal to the number of damaging strikes\n",
    "train_indices = np.array( np.random.choice(X_use2.index, int((X_use2.shape[0]/2)), replace= False) )\n",
    "test_indices = np.array([item for item in X_use2.index if item not in train_indices])\n",
    "\n",
    "# choosing random indices equal to the number of damaging strikes\n",
    "bird_use = bird_use.reset_index()\n",
    "X_train = X_use2.loc[train_indices,]\n",
    "Y_train = bird_use.loc[train_indices,'Damage']\n",
    "X_test = X_use2.loc[test_indices,]\n",
    "Y_test = bird_use.loc[test_indices,'Damage']"
   ]
  },
  {
   "cell_type": "markdown",
   "metadata": {},
   "source": [
    "### 4.1 Logistic Regression<a name=\"inferential1\"></a>"
   ]
  },
  {
   "cell_type": "code",
   "execution_count": 265,
   "metadata": {
    "scrolled": true
   },
   "outputs": [
    {
     "name": "stdout",
     "output_type": "stream",
     "text": [
      "Training Accuracy: 0.712.\n"
     ]
    },
    {
     "name": "stderr",
     "output_type": "stream",
     "text": [
      "C:\\Users\\Aaradhya\\Anaconda3\\lib\\site-packages\\sklearn\\linear_model\\logistic.py:433: FutureWarning: Default solver will be changed to 'lbfgs' in 0.22. Specify a solver to silence this warning.\n",
      "  FutureWarning)\n"
     ]
    }
   ],
   "source": [
    "# Logistic Regression using Scikit-learn\n",
    "logreg = LogisticRegression(class_weight='balanced')\n",
    "logreg.fit(X_train, Y_train)\n",
    "Y_pred = logreg.predict(X_test)\n",
    "print('Training Accuracy: %1.3f.' % logreg.score(X_train, Y_train))\n"
   ]
  },
  {
   "cell_type": "code",
   "execution_count": 266,
   "metadata": {},
   "outputs": [
    {
     "name": "stdout",
     "output_type": "stream",
     "text": [
      "Accuracy score: 0.692 \n"
     ]
    }
   ],
   "source": [
    "# get accuracy score\n",
    "logreg_t = metrics.accuracy_score(Y_test,Y_pred)\n",
    "print('Accuracy score: %1.3f '%logreg_t)"
   ]
  },
  {
   "cell_type": "code",
   "execution_count": 235,
   "metadata": {},
   "outputs": [
    {
     "name": "stdout",
     "output_type": "stream",
     "text": [
      "Cross-Validation Accuracy: 0.691.\n"
     ]
    },
    {
     "name": "stderr",
     "output_type": "stream",
     "text": [
      "C:\\Users\\Aaradhya\\Anaconda3\\lib\\site-packages\\sklearn\\linear_model\\logistic.py:433: FutureWarning: Default solver will be changed to 'lbfgs' in 0.22. Specify a solver to silence this warning.\n",
      "  FutureWarning)\n",
      "C:\\Users\\Aaradhya\\Anaconda3\\lib\\site-packages\\sklearn\\linear_model\\logistic.py:433: FutureWarning: Default solver will be changed to 'lbfgs' in 0.22. Specify a solver to silence this warning.\n",
      "  FutureWarning)\n",
      "C:\\Users\\Aaradhya\\Anaconda3\\lib\\site-packages\\sklearn\\linear_model\\logistic.py:433: FutureWarning: Default solver will be changed to 'lbfgs' in 0.22. Specify a solver to silence this warning.\n",
      "  FutureWarning)\n",
      "C:\\Users\\Aaradhya\\Anaconda3\\lib\\site-packages\\sklearn\\linear_model\\logistic.py:433: FutureWarning: Default solver will be changed to 'lbfgs' in 0.22. Specify a solver to silence this warning.\n",
      "  FutureWarning)\n",
      "C:\\Users\\Aaradhya\\Anaconda3\\lib\\site-packages\\sklearn\\linear_model\\logistic.py:433: FutureWarning: Default solver will be changed to 'lbfgs' in 0.22. Specify a solver to silence this warning.\n",
      "  FutureWarning)\n",
      "C:\\Users\\Aaradhya\\Anaconda3\\lib\\site-packages\\sklearn\\linear_model\\logistic.py:433: FutureWarning: Default solver will be changed to 'lbfgs' in 0.22. Specify a solver to silence this warning.\n",
      "  FutureWarning)\n",
      "C:\\Users\\Aaradhya\\Anaconda3\\lib\\site-packages\\sklearn\\linear_model\\logistic.py:433: FutureWarning: Default solver will be changed to 'lbfgs' in 0.22. Specify a solver to silence this warning.\n",
      "  FutureWarning)\n",
      "C:\\Users\\Aaradhya\\Anaconda3\\lib\\site-packages\\sklearn\\linear_model\\logistic.py:433: FutureWarning: Default solver will be changed to 'lbfgs' in 0.22. Specify a solver to silence this warning.\n",
      "  FutureWarning)\n",
      "C:\\Users\\Aaradhya\\Anaconda3\\lib\\site-packages\\sklearn\\linear_model\\logistic.py:433: FutureWarning: Default solver will be changed to 'lbfgs' in 0.22. Specify a solver to silence this warning.\n",
      "  FutureWarning)\n",
      "C:\\Users\\Aaradhya\\Anaconda3\\lib\\site-packages\\sklearn\\linear_model\\logistic.py:433: FutureWarning: Default solver will be changed to 'lbfgs' in 0.22. Specify a solver to silence this warning.\n",
      "  FutureWarning)\n"
     ]
    }
   ],
   "source": [
    "# evaluate the model using 10-fold cross-validation\n",
    "scores_lr = cross_val_score(logreg, X_train, Y_train, scoring='accuracy', cv=10)\n",
    "print('Cross-Validation Accuracy: %1.3f.' % scores_lr.mean())"
   ]
  },
  {
   "cell_type": "code",
   "execution_count": 236,
   "metadata": {},
   "outputs": [
    {
     "name": "stdout",
     "output_type": "stream",
     "text": [
      "ROC AUC on train set: 0.763.\n",
      "ROC AUC on validation set: 0.741.\n"
     ]
    }
   ],
   "source": [
    "# ROC AUC on train set\n",
    "Y_prob_train = logreg.predict_proba(X_train)\n",
    "lr_auc_train = metrics.roc_auc_score(Y_train, Y_prob_train[:, 1])\n",
    "print (\"ROC AUC on train set: %1.3f.\" % lr_auc_train)\n",
    "\n",
    "# Predict on validation set\n",
    "Y_prob_test = logreg.predict_proba(X_test)\n",
    "lr_auc_test = metrics.roc_auc_score(Y_test, Y_prob_test[:, 1])\n",
    "print (\"ROC AUC on validation set: %1.3f.\" % lr_auc_test)"
   ]
  },
  {
   "cell_type": "code",
   "execution_count": 237,
   "metadata": {},
   "outputs": [
    {
     "name": "stdout",
     "output_type": "stream",
     "text": [
      "Warning: Maximum number of iterations has been exceeded.\n",
      "         Current function value: 0.579806\n",
      "         Iterations: 35\n"
     ]
    },
    {
     "name": "stderr",
     "output_type": "stream",
     "text": [
      "C:\\Users\\Aaradhya\\Anaconda3\\lib\\site-packages\\statsmodels\\base\\model.py:508: ConvergenceWarning: Maximum Likelihood optimization failed to converge. Check mle_retvals\n",
      "  \"Check mle_retvals\", ConvergenceWarning)\n",
      "C:\\Users\\Aaradhya\\Anaconda3\\lib\\site-packages\\statsmodels\\base\\model.py:1092: RuntimeWarning: invalid value encountered in sqrt\n",
      "  bse_ = np.sqrt(np.diag(self.cov_params()))\n",
      "C:\\Users\\Aaradhya\\Anaconda3\\lib\\site-packages\\scipy\\stats\\_distn_infrastructure.py:877: RuntimeWarning: invalid value encountered in greater\n",
      "  return (self.a < x) & (x < self.b)\n",
      "C:\\Users\\Aaradhya\\Anaconda3\\lib\\site-packages\\scipy\\stats\\_distn_infrastructure.py:877: RuntimeWarning: invalid value encountered in less\n",
      "  return (self.a < x) & (x < self.b)\n",
      "C:\\Users\\Aaradhya\\Anaconda3\\lib\\site-packages\\scipy\\stats\\_distn_infrastructure.py:1831: RuntimeWarning: invalid value encountered in less_equal\n",
      "  cond2 = cond0 & (x <= self.a)\n"
     ]
    },
    {
     "data": {
      "text/html": [
       "<table class=\"simpletable\">\n",
       "<caption>Logit Regression Results</caption>\n",
       "<tr>\n",
       "  <th>Dep. Variable:</th>      <td>Damage</td>      <th>  No. Observations:  </th>  <td>  1690</td>  \n",
       "</tr>\n",
       "<tr>\n",
       "  <th>Model:</th>               <td>Logit</td>      <th>  Df Residuals:      </th>  <td>  1673</td>  \n",
       "</tr>\n",
       "<tr>\n",
       "  <th>Method:</th>               <td>MLE</td>       <th>  Df Model:          </th>  <td>    16</td>  \n",
       "</tr>\n",
       "<tr>\n",
       "  <th>Date:</th>          <td>Sun, 01 Dec 2019</td> <th>  Pseudo R-squ.:     </th>  <td>0.1635</td>  \n",
       "</tr>\n",
       "<tr>\n",
       "  <th>Time:</th>              <td>09:31:06</td>     <th>  Log-Likelihood:    </th> <td> -979.87</td> \n",
       "</tr>\n",
       "<tr>\n",
       "  <th>converged:</th>           <td>False</td>      <th>  LL-Null:           </th> <td> -1171.4</td> \n",
       "</tr>\n",
       "<tr>\n",
       "  <th> </th>                      <td> </td>        <th>  LLR p-value:       </th> <td>1.264e-71</td>\n",
       "</tr>\n",
       "</table>\n",
       "<table class=\"simpletable\">\n",
       "<tr>\n",
       "                <td></td>                  <th>coef</th>     <th>std err</th>      <th>z</th>      <th>P>|z|</th>  <th>[0.025</th>    <th>0.975]</th>  \n",
       "</tr>\n",
       "<tr>\n",
       "  <th>Aircraft: Number of engines?</th> <td>   -0.0006</td> <td>    0.063</td> <td>   -0.010</td> <td> 0.992</td> <td>   -0.124</td> <td>    0.123</td>\n",
       "</tr>\n",
       "<tr>\n",
       "  <th>Feet above ground</th>            <td>   -0.1757</td> <td>    0.115</td> <td>   -1.533</td> <td> 0.125</td> <td>   -0.400</td> <td>    0.049</td>\n",
       "</tr>\n",
       "<tr>\n",
       "  <th>Miles from airport</th>           <td>    0.0852</td> <td>    0.117</td> <td>    0.730</td> <td> 0.466</td> <td>   -0.144</td> <td>    0.314</td>\n",
       "</tr>\n",
       "<tr>\n",
       "  <th>Speed (IAS) in knots</th>         <td>   -0.1446</td> <td>    0.095</td> <td>   -1.524</td> <td> 0.127</td> <td>   -0.330</td> <td>    0.041</td>\n",
       "</tr>\n",
       "<tr>\n",
       "  <th>Flight Month</th>                 <td>   -0.0549</td> <td>    0.055</td> <td>   -0.994</td> <td> 0.320</td> <td>   -0.163</td> <td>    0.053</td>\n",
       "</tr>\n",
       "<tr>\n",
       "  <th>Flight Year</th>                  <td>   -0.0646</td> <td>    0.057</td> <td>   -1.133</td> <td> 0.257</td> <td>   -0.176</td> <td>    0.047</td>\n",
       "</tr>\n",
       "<tr>\n",
       "  <th>When: Time (HHMM)</th>            <td>    0.1017</td> <td>    0.057</td> <td>    1.786</td> <td> 0.074</td> <td>   -0.010</td> <td>    0.213</td>\n",
       "</tr>\n",
       "<tr>\n",
       "  <th>Large</th>                        <td>    0.5959</td> <td>      nan</td> <td>      nan</td> <td>   nan</td> <td>      nan</td> <td>      nan</td>\n",
       "</tr>\n",
       "<tr>\n",
       "  <th>Medium</th>                       <td>    0.0933</td> <td>      nan</td> <td>      nan</td> <td>   nan</td> <td>      nan</td> <td>      nan</td>\n",
       "</tr>\n",
       "<tr>\n",
       "  <th>Small</th>                        <td>   -0.5418</td> <td>      nan</td> <td>      nan</td> <td>   nan</td> <td>      nan</td> <td>      nan</td>\n",
       "</tr>\n",
       "<tr>\n",
       "  <th>Approach</th>                     <td>    0.0047</td> <td> 4.37e+06</td> <td> 1.07e-09</td> <td> 1.000</td> <td>-8.56e+06</td> <td> 8.56e+06</td>\n",
       "</tr>\n",
       "<tr>\n",
       "  <th>Climb</th>                        <td>    0.1342</td> <td> 3.42e+06</td> <td> 3.92e-08</td> <td> 1.000</td> <td>-6.71e+06</td> <td> 6.71e+06</td>\n",
       "</tr>\n",
       "<tr>\n",
       "  <th>Descent</th>                      <td>    0.1444</td> <td> 1.73e+06</td> <td> 8.32e-08</td> <td> 1.000</td> <td> -3.4e+06</td> <td>  3.4e+06</td>\n",
       "</tr>\n",
       "<tr>\n",
       "  <th>En Route</th>                     <td>    0.0309</td> <td> 5.45e+05</td> <td> 5.66e-08</td> <td> 1.000</td> <td>-1.07e+06</td> <td> 1.07e+06</td>\n",
       "</tr>\n",
       "<tr>\n",
       "  <th>Landing Roll</th>                 <td>   -0.2238</td> <td> 3.75e+06</td> <td>-5.97e-08</td> <td> 1.000</td> <td>-7.35e+06</td> <td> 7.35e+06</td>\n",
       "</tr>\n",
       "<tr>\n",
       "  <th>Parked</th>                       <td>    0.0239</td> <td> 3.85e+05</td> <td> 6.19e-08</td> <td> 1.000</td> <td>-7.56e+05</td> <td> 7.56e+05</td>\n",
       "</tr>\n",
       "<tr>\n",
       "  <th>Take-off run</th>                 <td>    0.0315</td> <td> 3.82e+06</td> <td> 8.23e-09</td> <td> 1.000</td> <td>-7.49e+06</td> <td> 7.49e+06</td>\n",
       "</tr>\n",
       "<tr>\n",
       "  <th>Taxi</th>                         <td>   -0.0750</td> <td> 4.97e+05</td> <td>-1.51e-07</td> <td> 1.000</td> <td>-9.75e+05</td> <td> 9.75e+05</td>\n",
       "</tr>\n",
       "<tr>\n",
       "  <th>N</th>                            <td>    0.0482</td> <td>      nan</td> <td>      nan</td> <td>   nan</td> <td>      nan</td> <td>      nan</td>\n",
       "</tr>\n",
       "<tr>\n",
       "  <th>Y</th>                            <td>   -0.0482</td> <td>      nan</td> <td>      nan</td> <td>   nan</td> <td>      nan</td> <td>      nan</td>\n",
       "</tr>\n",
       "</table>"
      ],
      "text/plain": [
       "<class 'statsmodels.iolib.summary.Summary'>\n",
       "\"\"\"\n",
       "                           Logit Regression Results                           \n",
       "==============================================================================\n",
       "Dep. Variable:                 Damage   No. Observations:                 1690\n",
       "Model:                          Logit   Df Residuals:                     1673\n",
       "Method:                           MLE   Df Model:                           16\n",
       "Date:                Sun, 01 Dec 2019   Pseudo R-squ.:                  0.1635\n",
       "Time:                        09:31:06   Log-Likelihood:                -979.87\n",
       "converged:                      False   LL-Null:                       -1171.4\n",
       "                                        LLR p-value:                 1.264e-71\n",
       "================================================================================================\n",
       "                                   coef    std err          z      P>|z|      [0.025      0.975]\n",
       "------------------------------------------------------------------------------------------------\n",
       "Aircraft: Number of engines?    -0.0006      0.063     -0.010      0.992      -0.124       0.123\n",
       "Feet above ground               -0.1757      0.115     -1.533      0.125      -0.400       0.049\n",
       "Miles from airport               0.0852      0.117      0.730      0.466      -0.144       0.314\n",
       "Speed (IAS) in knots            -0.1446      0.095     -1.524      0.127      -0.330       0.041\n",
       "Flight Month                    -0.0549      0.055     -0.994      0.320      -0.163       0.053\n",
       "Flight Year                     -0.0646      0.057     -1.133      0.257      -0.176       0.047\n",
       "When: Time (HHMM)                0.1017      0.057      1.786      0.074      -0.010       0.213\n",
       "Large                            0.5959        nan        nan        nan         nan         nan\n",
       "Medium                           0.0933        nan        nan        nan         nan         nan\n",
       "Small                           -0.5418        nan        nan        nan         nan         nan\n",
       "Approach                         0.0047   4.37e+06   1.07e-09      1.000   -8.56e+06    8.56e+06\n",
       "Climb                            0.1342   3.42e+06   3.92e-08      1.000   -6.71e+06    6.71e+06\n",
       "Descent                          0.1444   1.73e+06   8.32e-08      1.000    -3.4e+06     3.4e+06\n",
       "En Route                         0.0309   5.45e+05   5.66e-08      1.000   -1.07e+06    1.07e+06\n",
       "Landing Roll                    -0.2238   3.75e+06  -5.97e-08      1.000   -7.35e+06    7.35e+06\n",
       "Parked                           0.0239   3.85e+05   6.19e-08      1.000   -7.56e+05    7.56e+05\n",
       "Take-off run                     0.0315   3.82e+06   8.23e-09      1.000   -7.49e+06    7.49e+06\n",
       "Taxi                            -0.0750   4.97e+05  -1.51e-07      1.000   -9.75e+05    9.75e+05\n",
       "N                                0.0482        nan        nan        nan         nan         nan\n",
       "Y                               -0.0482        nan        nan        nan         nan         nan\n",
       "================================================================================================\n",
       "\"\"\""
      ]
     },
     "execution_count": 237,
     "metadata": {},
     "output_type": "execute_result"
    }
   ],
   "source": [
    "# logistic regression using statsmodels\n",
    "logit = sm.Logit(bird_use[\"Damage\"].reset_index(drop=True), X_use2)\n",
    "result = logit.fit()\n",
    "result.summary()"
   ]
  },
  {
   "cell_type": "code",
   "execution_count": 238,
   "metadata": {},
   "outputs": [
    {
     "data": {
      "text/plain": [
       "Index([], dtype='object')"
      ]
     },
     "execution_count": 238,
     "metadata": {},
     "output_type": "execute_result"
    }
   ],
   "source": [
    "# check significance of the features\n",
    "features_coefs = result.params.sort_values(ascending=False)\n",
    "selectSignificant = result.pvalues[result.pvalues <= 0.05].index\n",
    "selectSignificant"
   ]
  },
  {
   "cell_type": "markdown",
   "metadata": {},
   "source": [
    "### 4.2 Support Vector Machines <a name=\"inferential2\"></a>"
   ]
  },
  {
   "cell_type": "code",
   "execution_count": 267,
   "metadata": {},
   "outputs": [
    {
     "name": "stdout",
     "output_type": "stream",
     "text": [
      "Training Accuracy: 0.755.\n"
     ]
    },
    {
     "name": "stderr",
     "output_type": "stream",
     "text": [
      "C:\\Users\\Aaradhya\\Anaconda3\\lib\\site-packages\\sklearn\\svm\\base.py:196: FutureWarning: The default value of gamma will change from 'auto' to 'scale' in version 0.22 to account better for unscaled features. Set gamma explicitly to 'auto' or 'scale' to avoid this warning.\n",
      "  \"avoid this warning.\", FutureWarning)\n"
     ]
    }
   ],
   "source": [
    "svc = SVC(class_weight='balanced',probability=True)\n",
    "svc.fit(X_train,Y_train)\n",
    "Y_pred = svc.predict(X_test)\n",
    "\n",
    "print('Training Accuracy: %1.3f.' % svc.score(X_train, Y_train))"
   ]
  },
  {
   "cell_type": "code",
   "execution_count": 268,
   "metadata": {},
   "outputs": [
    {
     "name": "stdout",
     "output_type": "stream",
     "text": [
      "Testing Accuracy : 0.685.\n"
     ]
    }
   ],
   "source": [
    "svc_t = metrics.accuracy_score(Y_test,Y_pred)\n",
    "print('Testing Accuracy : %1.3f.' %svc_t)"
   ]
  },
  {
   "cell_type": "code",
   "execution_count": 242,
   "metadata": {},
   "outputs": [
    {
     "name": "stderr",
     "output_type": "stream",
     "text": [
      "C:\\Users\\Aaradhya\\Anaconda3\\lib\\site-packages\\sklearn\\svm\\base.py:196: FutureWarning: The default value of gamma will change from 'auto' to 'scale' in version 0.22 to account better for unscaled features. Set gamma explicitly to 'auto' or 'scale' to avoid this warning.\n",
      "  \"avoid this warning.\", FutureWarning)\n",
      "C:\\Users\\Aaradhya\\Anaconda3\\lib\\site-packages\\sklearn\\svm\\base.py:196: FutureWarning: The default value of gamma will change from 'auto' to 'scale' in version 0.22 to account better for unscaled features. Set gamma explicitly to 'auto' or 'scale' to avoid this warning.\n",
      "  \"avoid this warning.\", FutureWarning)\n",
      "C:\\Users\\Aaradhya\\Anaconda3\\lib\\site-packages\\sklearn\\svm\\base.py:196: FutureWarning: The default value of gamma will change from 'auto' to 'scale' in version 0.22 to account better for unscaled features. Set gamma explicitly to 'auto' or 'scale' to avoid this warning.\n",
      "  \"avoid this warning.\", FutureWarning)\n",
      "C:\\Users\\Aaradhya\\Anaconda3\\lib\\site-packages\\sklearn\\svm\\base.py:196: FutureWarning: The default value of gamma will change from 'auto' to 'scale' in version 0.22 to account better for unscaled features. Set gamma explicitly to 'auto' or 'scale' to avoid this warning.\n",
      "  \"avoid this warning.\", FutureWarning)\n",
      "C:\\Users\\Aaradhya\\Anaconda3\\lib\\site-packages\\sklearn\\svm\\base.py:196: FutureWarning: The default value of gamma will change from 'auto' to 'scale' in version 0.22 to account better for unscaled features. Set gamma explicitly to 'auto' or 'scale' to avoid this warning.\n",
      "  \"avoid this warning.\", FutureWarning)\n",
      "C:\\Users\\Aaradhya\\Anaconda3\\lib\\site-packages\\sklearn\\svm\\base.py:196: FutureWarning: The default value of gamma will change from 'auto' to 'scale' in version 0.22 to account better for unscaled features. Set gamma explicitly to 'auto' or 'scale' to avoid this warning.\n",
      "  \"avoid this warning.\", FutureWarning)\n",
      "C:\\Users\\Aaradhya\\Anaconda3\\lib\\site-packages\\sklearn\\svm\\base.py:196: FutureWarning: The default value of gamma will change from 'auto' to 'scale' in version 0.22 to account better for unscaled features. Set gamma explicitly to 'auto' or 'scale' to avoid this warning.\n",
      "  \"avoid this warning.\", FutureWarning)\n",
      "C:\\Users\\Aaradhya\\Anaconda3\\lib\\site-packages\\sklearn\\svm\\base.py:196: FutureWarning: The default value of gamma will change from 'auto' to 'scale' in version 0.22 to account better for unscaled features. Set gamma explicitly to 'auto' or 'scale' to avoid this warning.\n",
      "  \"avoid this warning.\", FutureWarning)\n",
      "C:\\Users\\Aaradhya\\Anaconda3\\lib\\site-packages\\sklearn\\svm\\base.py:196: FutureWarning: The default value of gamma will change from 'auto' to 'scale' in version 0.22 to account better for unscaled features. Set gamma explicitly to 'auto' or 'scale' to avoid this warning.\n",
      "  \"avoid this warning.\", FutureWarning)\n",
      "C:\\Users\\Aaradhya\\Anaconda3\\lib\\site-packages\\sklearn\\svm\\base.py:196: FutureWarning: The default value of gamma will change from 'auto' to 'scale' in version 0.22 to account better for unscaled features. Set gamma explicitly to 'auto' or 'scale' to avoid this warning.\n",
      "  \"avoid this warning.\", FutureWarning)\n"
     ]
    },
    {
     "name": "stdout",
     "output_type": "stream",
     "text": [
      "Cross-Validation Accuracy: 0.701.\n"
     ]
    }
   ],
   "source": [
    "# evaluate the model using 10-fold cross-validation\n",
    "scores_svc = cross_val_score(svc, X_train, Y_train, scoring='accuracy', cv=10)\n",
    "print('Cross-Validation Accuracy: %1.3f.' % scores_svc.mean())"
   ]
  },
  {
   "cell_type": "code",
   "execution_count": 243,
   "metadata": {},
   "outputs": [
    {
     "name": "stdout",
     "output_type": "stream",
     "text": [
      "ROC AUC on train set: 0.819.\n",
      "ROC AUC on validation set: 0.735.\n"
     ]
    }
   ],
   "source": [
    "# ROC AUC on train set\n",
    "Y_prob_train = svc.predict_proba(X_train)\n",
    "svc_auc_train = metrics.roc_auc_score(Y_train, Y_prob_train[:, 1])\n",
    "print (\"ROC AUC on train set: %1.3f.\" % svc_auc_train)\n",
    "\n",
    "# Predict on validation set\n",
    "Y_prob_test = svc.predict_proba(X_test)\n",
    "svc_auc_test = metrics.roc_auc_score(Y_test, Y_prob_test[:, 1])\n",
    "print (\"ROC AUC on validation set: %1.3f.\" % svc_auc_test)"
   ]
  },
  {
   "cell_type": "markdown",
   "metadata": {},
   "source": [
    "### 4.3 Random Forests <a name=\"inferential3\"></a>"
   ]
  },
  {
   "cell_type": "code",
   "execution_count": 244,
   "metadata": {},
   "outputs": [
    {
     "name": "stdout",
     "output_type": "stream",
     "text": [
      "Training Accuracy: 1.000.\n"
     ]
    }
   ],
   "source": [
    "# Random Forests\n",
    "rf = RandomForestClassifier(n_estimators=100)\n",
    "rf.fit(X_train, Y_train)\n",
    "Y_pred = rf.predict(X_test)\n",
    "print('Training Accuracy: %1.3f.' % rf.score(X_train, Y_train))"
   ]
  },
  {
   "cell_type": "code",
   "execution_count": 269,
   "metadata": {},
   "outputs": [
    {
     "name": "stdout",
     "output_type": "stream",
     "text": [
      "Testing Accuracy : 0.685.\n"
     ]
    }
   ],
   "source": [
    "rf_t = metrics.accuracy_score(Y_test,Y_pred)\n",
    "print('Testing Accuracy : %1.3f.' %rf_t)"
   ]
  },
  {
   "cell_type": "code",
   "execution_count": 246,
   "metadata": {},
   "outputs": [
    {
     "name": "stdout",
     "output_type": "stream",
     "text": [
      "Cross-Validation Accuracy: 0.660.\n"
     ]
    }
   ],
   "source": [
    "# evaluate the model using 10-fold cross-validation\n",
    "scores_rf = cross_val_score(rf, X_train, Y_train, scoring='accuracy', cv=10)\n",
    "print('Cross-Validation Accuracy: %1.3f.' % scores_rf.mean())"
   ]
  },
  {
   "cell_type": "code",
   "execution_count": 247,
   "metadata": {},
   "outputs": [
    {
     "name": "stdout",
     "output_type": "stream",
     "text": [
      "ROC AUC on train set: 1.000.\n",
      "ROC AUC on validation set: 0.714.\n"
     ]
    }
   ],
   "source": [
    "# ROC AUC on train set\n",
    "Y_prob_train = rf.predict_proba(X_train)\n",
    "rf_auc_train = metrics.roc_auc_score(Y_train, Y_prob_train[:, 1])\n",
    "print (\"ROC AUC on train set: %1.3f.\" % rf_auc_train)\n",
    "\n",
    "# Predict on validation set\n",
    "Y_prob_test = rf.predict_proba(X_test)\n",
    "rf_auc_test = metrics.roc_auc_score(Y_test, Y_prob_test[:, 1])\n",
    "print (\"ROC AUC on validation set: %1.3f.\" % rf_auc_test)"
   ]
  },
  {
   "cell_type": "code",
   "execution_count": 249,
   "metadata": {
    "scrolled": true
   },
   "outputs": [
    {
     "data": {
      "text/plain": [
       "<bound method BaseEstimator.get_params of RandomForestClassifier(bootstrap=True, class_weight=None, criterion='gini',\n",
       "            max_depth=None, max_features='auto', max_leaf_nodes=None,\n",
       "            min_impurity_decrease=0.0, min_impurity_split=None,\n",
       "            min_samples_leaf=1, min_samples_split=2,\n",
       "            min_weight_fraction_leaf=0.0, n_estimators=100, n_jobs=None,\n",
       "            oob_score=False, random_state=None, verbose=0,\n",
       "            warm_start=False)>"
      ]
     },
     "execution_count": 249,
     "metadata": {},
     "output_type": "execute_result"
    }
   ],
   "source": []
  },
  {
   "cell_type": "markdown",
   "metadata": {},
   "source": [
    "### 4.4 K-Nearest Neighbors Classifier <a name=\"inferential4\"></a>"
   ]
  },
  {
   "cell_type": "code",
   "execution_count": 251,
   "metadata": {},
   "outputs": [
    {
     "name": "stdout",
     "output_type": "stream",
     "text": [
      "training accuracy 0.781.\n"
     ]
    }
   ],
   "source": [
    "knn = KNeighborsClassifier()\n",
    "knn.fit(X_train,Y_train)\n",
    "Y_pred = knn.predict(X_test)\n",
    "\n",
    "print('training accuracy %1.3f.' %knn.score(X_train,Y_train))"
   ]
  },
  {
   "cell_type": "code",
   "execution_count": 270,
   "metadata": {},
   "outputs": [
    {
     "name": "stdout",
     "output_type": "stream",
     "text": [
      "test accuracy 0.685.\n"
     ]
    }
   ],
   "source": [
    "knn_t = metrics.accuracy_score(Y_test,Y_pred)\n",
    "print('test accuracy %1.3f.' %knn_t)"
   ]
  },
  {
   "cell_type": "code",
   "execution_count": 273,
   "metadata": {},
   "outputs": [
    {
     "name": "stdout",
     "output_type": "stream",
     "text": [
      "Cross-Validation Accuracy: 0.692.\n"
     ]
    }
   ],
   "source": [
    "scores_knn = cross_val_score(knn, X_train, Y_train, scoring='accuracy', cv=10)\n",
    "print('Cross-Validation Accuracy: %1.3f.' % scores_knn.mean())"
   ]
  },
  {
   "cell_type": "code",
   "execution_count": 255,
   "metadata": {},
   "outputs": [
    {
     "name": "stdout",
     "output_type": "stream",
     "text": [
      "train roc auc score is 0.862.\n",
      "train roc auc score is 0.690.\n"
     ]
    }
   ],
   "source": [
    "Y_prob_train = knn.predict_proba(X_train)\n",
    "knn_auc_train = metrics.roc_auc_score(Y_train,Y_prob_train[:,1])\n",
    "\n",
    "print('train roc auc score is %1.3f.'%knn_auc_train)\n",
    "\n",
    "Y_prob_test = knn.predict_proba(X_test)\n",
    "knn_auc_test = metrics.roc_auc_score(Y_test,Y_prob_test[:,1])\n",
    "\n",
    "print('train roc auc score is %1.3f.'%knn_auc_test)\n"
   ]
  },
  {
   "cell_type": "markdown",
   "metadata": {},
   "source": [
    "### 4.5 Gaussian Naive Bayes <a name=\"inferential5\"></a>"
   ]
  },
  {
   "cell_type": "code",
   "execution_count": 258,
   "metadata": {},
   "outputs": [
    {
     "name": "stdout",
     "output_type": "stream",
     "text": [
      "train accuracy score 0.670.\n"
     ]
    }
   ],
   "source": [
    "nb = GaussianNB()\n",
    "nb.fit(X_train,Y_train)\n",
    "Y_pred= nb.predict(X_test)\n",
    "\n",
    "print('train accuracy score %1.3f.'%nb.score(X_train,Y_train))"
   ]
  },
  {
   "cell_type": "code",
   "execution_count": 271,
   "metadata": {},
   "outputs": [
    {
     "name": "stdout",
     "output_type": "stream",
     "text": [
      "test accuracy score 0.685.\n"
     ]
    }
   ],
   "source": [
    "nb_t = metrics.accuracy_score(Y_test,Y_pred)\n",
    "print('test accuracy score %1.3f.'%nb_t)"
   ]
  },
  {
   "cell_type": "code",
   "execution_count": 274,
   "metadata": {},
   "outputs": [
    {
     "name": "stdout",
     "output_type": "stream",
     "text": [
      "Cross-Validation Accuracy: 0.594.\n"
     ]
    }
   ],
   "source": [
    "scores_nb = cross_val_score(nb, X_train, Y_train, scoring='accuracy', cv=10)\n",
    "print('Cross-Validation Accuracy: %1.3f.' % scores_nb.mean())"
   ]
  },
  {
   "cell_type": "code",
   "execution_count": 275,
   "metadata": {},
   "outputs": [
    {
     "name": "stdout",
     "output_type": "stream",
     "text": [
      "Train AUC roc value is 0.761.\n",
      "Train AUC roc value is 0.708.\n"
     ]
    }
   ],
   "source": [
    "Y_prob_train = nb.predict_proba(X_train)\n",
    "nb_auc_train = metrics.roc_auc_score(Y_train,Y_prob_train[:,1])\n",
    "\n",
    "print('Train AUC roc value is %1.3f.'%nb_auc_roc_train)\n",
    "\n",
    "Y_prob_test = nb.predict_proba(X_test)\n",
    "nb_auc_test = metrics.roc_auc_score(Y_test,Y_prob_test[:,1])\n",
    "\n",
    "print('Train AUC roc value is %1.3f.'%nb_auc_roc_test)\n"
   ]
  },
  {
   "cell_type": "markdown",
   "metadata": {},
   "source": [
    "### 5. Model Summary <a name=\"inferential6\"></a>"
   ]
  },
  {
   "cell_type": "code",
   "execution_count": 276,
   "metadata": {},
   "outputs": [
    {
     "data": {
      "text/html": [
       "<div>\n",
       "<style scoped>\n",
       "    .dataframe tbody tr th:only-of-type {\n",
       "        vertical-align: middle;\n",
       "    }\n",
       "\n",
       "    .dataframe tbody tr th {\n",
       "        vertical-align: top;\n",
       "    }\n",
       "\n",
       "    .dataframe thead th {\n",
       "        text-align: right;\n",
       "    }\n",
       "</style>\n",
       "<table border=\"1\" class=\"dataframe\">\n",
       "  <thead>\n",
       "    <tr style=\"text-align: right;\">\n",
       "      <th></th>\n",
       "      <th>Training Accuracy</th>\n",
       "      <th>Testing Accuracy</th>\n",
       "      <th>Cross-Validation Accuracy</th>\n",
       "      <th>Training AUC</th>\n",
       "      <th>Testing AUC</th>\n",
       "    </tr>\n",
       "  </thead>\n",
       "  <tbody>\n",
       "    <tr>\n",
       "      <th>Logistic Regression</th>\n",
       "      <td>0.712426</td>\n",
       "      <td>0.692308</td>\n",
       "      <td>0.691155</td>\n",
       "      <td>0.762954</td>\n",
       "      <td>0.741344</td>\n",
       "    </tr>\n",
       "    <tr>\n",
       "      <th>Support Vector Machines</th>\n",
       "      <td>0.755030</td>\n",
       "      <td>0.685207</td>\n",
       "      <td>0.700651</td>\n",
       "      <td>0.818939</td>\n",
       "      <td>0.734619</td>\n",
       "    </tr>\n",
       "    <tr>\n",
       "      <th>Random Forests</th>\n",
       "      <td>0.850888</td>\n",
       "      <td>0.685207</td>\n",
       "      <td>0.660327</td>\n",
       "      <td>1.000000</td>\n",
       "      <td>0.714074</td>\n",
       "    </tr>\n",
       "    <tr>\n",
       "      <th>K-Nearest Neighbors</th>\n",
       "      <td>0.743195</td>\n",
       "      <td>0.685207</td>\n",
       "      <td>0.692274</td>\n",
       "      <td>0.861509</td>\n",
       "      <td>0.689776</td>\n",
       "    </tr>\n",
       "    <tr>\n",
       "      <th>Gaussian Naive Bayes</th>\n",
       "      <td>0.669822</td>\n",
       "      <td>0.685207</td>\n",
       "      <td>0.594229</td>\n",
       "      <td>0.760976</td>\n",
       "      <td>0.707926</td>\n",
       "    </tr>\n",
       "  </tbody>\n",
       "</table>\n",
       "</div>"
      ],
      "text/plain": [
       "                          Training Accuracy  Testing Accuracy  \\\n",
       "Logistic Regression                0.712426          0.692308   \n",
       "Support Vector Machines            0.755030          0.685207   \n",
       "Random Forests                     0.850888          0.685207   \n",
       "K-Nearest Neighbors                0.743195          0.685207   \n",
       "Gaussian Naive Bayes               0.669822          0.685207   \n",
       "\n",
       "                          Cross-Validation Accuracy  Training AUC  Testing AUC  \n",
       "Logistic Regression                        0.691155      0.762954     0.741344  \n",
       "Support Vector Machines                    0.700651      0.818939     0.734619  \n",
       "Random Forests                             0.660327      1.000000     0.714074  \n",
       "K-Nearest Neighbors                        0.692274      0.861509     0.689776  \n",
       "Gaussian Naive Bayes                       0.594229      0.760976     0.707926  "
      ]
     },
     "execution_count": 276,
     "metadata": {},
     "output_type": "execute_result"
    }
   ],
   "source": [
    "train_acc = [logreg.score(X_train, Y_train), svc.score(X_train, Y_train), rf.score(X_train, Y_train),\n",
    "             knn.score(X_train, Y_train), nb.score(X_train, Y_train)]\n",
    "\n",
    "test_acc = [logreg_t,svc_t,rf_t,knn_t,nb_t]\n",
    "\n",
    "cross_val_acc = [scores_lr.mean(), scores_svc.mean(), scores_rf.mean(), scores_knn.mean(), scores_nb.mean()]\n",
    "train_auc = [lr_auc_train, svc_auc_train, rf_auc_train, knn_auc_train, nb_auc_train]\n",
    "test_auc = [lr_auc_test, svc_auc_test, rf_auc_test, knn_auc_test, nb_auc_test]\n",
    "models = DataFrame({'Training Accuracy': train_acc, 'Testing Accuracy': test_acc, \n",
    "                    \"Cross-Validation Accuracy\": cross_val_acc,'Training AUC': train_auc,\n",
    "                   'Testing AUC': test_auc})\n",
    "models.index = ['Logistic Regression','Support Vector Machines ','Random Forests','K-Nearest Neighbors','Gaussian Naive Bayes']\n",
    "models"
   ]
  },
  {
   "cell_type": "code",
   "execution_count": 280,
   "metadata": {},
   "outputs": [
    {
     "data": {
      "text/html": [
       "<div>\n",
       "<style scoped>\n",
       "    .dataframe tbody tr th:only-of-type {\n",
       "        vertical-align: middle;\n",
       "    }\n",
       "\n",
       "    .dataframe tbody tr th {\n",
       "        vertical-align: top;\n",
       "    }\n",
       "\n",
       "    .dataframe thead th {\n",
       "        text-align: right;\n",
       "    }\n",
       "</style>\n",
       "<table border=\"1\" class=\"dataframe\">\n",
       "  <thead>\n",
       "    <tr style=\"text-align: right;\">\n",
       "      <th></th>\n",
       "      <th>level_0</th>\n",
       "      <th>level_1</th>\n",
       "      <th>Accuracy</th>\n",
       "    </tr>\n",
       "  </thead>\n",
       "  <tbody>\n",
       "    <tr>\n",
       "      <th>0</th>\n",
       "      <td>Training Accuracy</td>\n",
       "      <td>Logistic Regression</td>\n",
       "      <td>0.712426</td>\n",
       "    </tr>\n",
       "    <tr>\n",
       "      <th>1</th>\n",
       "      <td>Training Accuracy</td>\n",
       "      <td>Support Vector Machines</td>\n",
       "      <td>0.755030</td>\n",
       "    </tr>\n",
       "    <tr>\n",
       "      <th>2</th>\n",
       "      <td>Training Accuracy</td>\n",
       "      <td>Random Forests</td>\n",
       "      <td>0.850888</td>\n",
       "    </tr>\n",
       "    <tr>\n",
       "      <th>3</th>\n",
       "      <td>Training Accuracy</td>\n",
       "      <td>K-Nearest Neighbors</td>\n",
       "      <td>0.743195</td>\n",
       "    </tr>\n",
       "    <tr>\n",
       "      <th>4</th>\n",
       "      <td>Training Accuracy</td>\n",
       "      <td>Gaussian Naive Bayes</td>\n",
       "      <td>0.669822</td>\n",
       "    </tr>\n",
       "    <tr>\n",
       "      <th>5</th>\n",
       "      <td>Testing Accuracy</td>\n",
       "      <td>Logistic Regression</td>\n",
       "      <td>0.692308</td>\n",
       "    </tr>\n",
       "    <tr>\n",
       "      <th>6</th>\n",
       "      <td>Testing Accuracy</td>\n",
       "      <td>Support Vector Machines</td>\n",
       "      <td>0.685207</td>\n",
       "    </tr>\n",
       "    <tr>\n",
       "      <th>7</th>\n",
       "      <td>Testing Accuracy</td>\n",
       "      <td>Random Forests</td>\n",
       "      <td>0.685207</td>\n",
       "    </tr>\n",
       "    <tr>\n",
       "      <th>8</th>\n",
       "      <td>Testing Accuracy</td>\n",
       "      <td>K-Nearest Neighbors</td>\n",
       "      <td>0.685207</td>\n",
       "    </tr>\n",
       "    <tr>\n",
       "      <th>9</th>\n",
       "      <td>Testing Accuracy</td>\n",
       "      <td>Gaussian Naive Bayes</td>\n",
       "      <td>0.685207</td>\n",
       "    </tr>\n",
       "    <tr>\n",
       "      <th>10</th>\n",
       "      <td>Cross-Validation Accuracy</td>\n",
       "      <td>Logistic Regression</td>\n",
       "      <td>0.691155</td>\n",
       "    </tr>\n",
       "    <tr>\n",
       "      <th>11</th>\n",
       "      <td>Cross-Validation Accuracy</td>\n",
       "      <td>Support Vector Machines</td>\n",
       "      <td>0.700651</td>\n",
       "    </tr>\n",
       "    <tr>\n",
       "      <th>12</th>\n",
       "      <td>Cross-Validation Accuracy</td>\n",
       "      <td>Random Forests</td>\n",
       "      <td>0.660327</td>\n",
       "    </tr>\n",
       "    <tr>\n",
       "      <th>13</th>\n",
       "      <td>Cross-Validation Accuracy</td>\n",
       "      <td>K-Nearest Neighbors</td>\n",
       "      <td>0.692274</td>\n",
       "    </tr>\n",
       "    <tr>\n",
       "      <th>14</th>\n",
       "      <td>Cross-Validation Accuracy</td>\n",
       "      <td>Gaussian Naive Bayes</td>\n",
       "      <td>0.594229</td>\n",
       "    </tr>\n",
       "    <tr>\n",
       "      <th>15</th>\n",
       "      <td>Training AUC</td>\n",
       "      <td>Logistic Regression</td>\n",
       "      <td>0.762954</td>\n",
       "    </tr>\n",
       "    <tr>\n",
       "      <th>16</th>\n",
       "      <td>Training AUC</td>\n",
       "      <td>Support Vector Machines</td>\n",
       "      <td>0.818939</td>\n",
       "    </tr>\n",
       "    <tr>\n",
       "      <th>17</th>\n",
       "      <td>Training AUC</td>\n",
       "      <td>Random Forests</td>\n",
       "      <td>1.000000</td>\n",
       "    </tr>\n",
       "    <tr>\n",
       "      <th>18</th>\n",
       "      <td>Training AUC</td>\n",
       "      <td>K-Nearest Neighbors</td>\n",
       "      <td>0.861509</td>\n",
       "    </tr>\n",
       "    <tr>\n",
       "      <th>19</th>\n",
       "      <td>Training AUC</td>\n",
       "      <td>Gaussian Naive Bayes</td>\n",
       "      <td>0.760976</td>\n",
       "    </tr>\n",
       "    <tr>\n",
       "      <th>20</th>\n",
       "      <td>Testing AUC</td>\n",
       "      <td>Logistic Regression</td>\n",
       "      <td>0.741344</td>\n",
       "    </tr>\n",
       "    <tr>\n",
       "      <th>21</th>\n",
       "      <td>Testing AUC</td>\n",
       "      <td>Support Vector Machines</td>\n",
       "      <td>0.734619</td>\n",
       "    </tr>\n",
       "    <tr>\n",
       "      <th>22</th>\n",
       "      <td>Testing AUC</td>\n",
       "      <td>Random Forests</td>\n",
       "      <td>0.714074</td>\n",
       "    </tr>\n",
       "    <tr>\n",
       "      <th>23</th>\n",
       "      <td>Testing AUC</td>\n",
       "      <td>K-Nearest Neighbors</td>\n",
       "      <td>0.689776</td>\n",
       "    </tr>\n",
       "    <tr>\n",
       "      <th>24</th>\n",
       "      <td>Testing AUC</td>\n",
       "      <td>Gaussian Naive Bayes</td>\n",
       "      <td>0.707926</td>\n",
       "    </tr>\n",
       "  </tbody>\n",
       "</table>\n",
       "</div>"
      ],
      "text/plain": [
       "                      level_0                   level_1  Accuracy\n",
       "0           Training Accuracy       Logistic Regression  0.712426\n",
       "1           Training Accuracy  Support Vector Machines   0.755030\n",
       "2           Training Accuracy            Random Forests  0.850888\n",
       "3           Training Accuracy       K-Nearest Neighbors  0.743195\n",
       "4           Training Accuracy      Gaussian Naive Bayes  0.669822\n",
       "5            Testing Accuracy       Logistic Regression  0.692308\n",
       "6            Testing Accuracy  Support Vector Machines   0.685207\n",
       "7            Testing Accuracy            Random Forests  0.685207\n",
       "8            Testing Accuracy       K-Nearest Neighbors  0.685207\n",
       "9            Testing Accuracy      Gaussian Naive Bayes  0.685207\n",
       "10  Cross-Validation Accuracy       Logistic Regression  0.691155\n",
       "11  Cross-Validation Accuracy  Support Vector Machines   0.700651\n",
       "12  Cross-Validation Accuracy            Random Forests  0.660327\n",
       "13  Cross-Validation Accuracy       K-Nearest Neighbors  0.692274\n",
       "14  Cross-Validation Accuracy      Gaussian Naive Bayes  0.594229\n",
       "15               Training AUC       Logistic Regression  0.762954\n",
       "16               Training AUC  Support Vector Machines   0.818939\n",
       "17               Training AUC            Random Forests  1.000000\n",
       "18               Training AUC       K-Nearest Neighbors  0.861509\n",
       "19               Training AUC      Gaussian Naive Bayes  0.760976\n",
       "20                Testing AUC       Logistic Regression  0.741344\n",
       "21                Testing AUC  Support Vector Machines   0.734619\n",
       "22                Testing AUC            Random Forests  0.714074\n",
       "23                Testing AUC       K-Nearest Neighbors  0.689776\n",
       "24                Testing AUC      Gaussian Naive Bayes  0.707926"
      ]
     },
     "execution_count": 280,
     "metadata": {},
     "output_type": "execute_result"
    }
   ],
   "source": [
    "models1 = DataFrame({'Accuracy' : models.unstack()}).reset_index()\n",
    "models1"
   ]
  },
  {
   "cell_type": "code",
   "execution_count": 284,
   "metadata": {},
   "outputs": [
    {
     "data": {
      "image/png": "[encoded data removed]",
      "text/plain": [
       "<Figure size 720x720 with 1 Axes>"
      ]
     },
     "metadata": {
      "needs_background": "light"
     },
     "output_type": "display_data"
    }
   ],
   "source": [
    "models1 = DataFrame({'Accuracy' : models.unstack()}).reset_index()\n",
    "# plot accuracies\n",
    "plt.figure(figsize=(10, 10))\n",
    "fig_models = sns.barplot(x='level_0', y='Accuracy', hue='level_1', data=models1);\n",
    "#fig_models.set_xticklabels(labels=models1['level_0'],rotation=90)\n",
    "fig_models.set(xlabel='Accuracy Metric', ylabel='Accuracy');\n",
    "fig_models.set_title('The Accuracy of All Models Over Five Metrics');"
   ]
  },
  {
   "cell_type": "markdown",
   "metadata": {},
   "source": [
    "Based on the cross-validation and testing accuracies, the two most important metrics in model prediction among the three considered here, the Logistic Regression model yields the best performance. \n",
    "\n",
    "It is noteworthy that the Random Forests model performs slightly worse than the Logistic Regression on the metrics of cross-validation and testing accuracies. However, the Random Forests model has the highest training accuracy among all models. This suggests a potential model overfit.\n",
    "\n",
    "In summary, the logistic regression model outperforms other models and can be chosen as a model for prediction and warning system for pilots and operators."
   ]
  },
  {
   "cell_type": "markdown",
   "metadata": {},
   "source": [
    "### 5.1 Correlation Coefficients <a name=\"inferential7\"></a>\n",
    "\n",
    "The table below shows the coefficients, sorted by their absolute value in descending order."
   ]
  },
  {
   "cell_type": "code",
   "execution_count": 285,
   "metadata": {},
   "outputs": [
    {
     "data": {
      "text/html": [
       "<div>\n",
       "<style scoped>\n",
       "    .dataframe tbody tr th:only-of-type {\n",
       "        vertical-align: middle;\n",
       "    }\n",
       "\n",
       "    .dataframe tbody tr th {\n",
       "        vertical-align: top;\n",
       "    }\n",
       "\n",
       "    .dataframe thead th {\n",
       "        text-align: right;\n",
       "    }\n",
       "</style>\n",
       "<table border=\"1\" class=\"dataframe\">\n",
       "  <thead>\n",
       "    <tr style=\"text-align: right;\">\n",
       "      <th></th>\n",
       "      <th>0</th>\n",
       "      <th>1</th>\n",
       "    </tr>\n",
       "  </thead>\n",
       "  <tbody>\n",
       "    <tr>\n",
       "      <th>0</th>\n",
       "      <td>Aircraft: Number of engines?</td>\n",
       "      <td>[-0.06703374193892792]</td>\n",
       "    </tr>\n",
       "    <tr>\n",
       "      <th>1</th>\n",
       "      <td>Feet above ground</td>\n",
       "      <td>[-0.01209018318836889]</td>\n",
       "    </tr>\n",
       "    <tr>\n",
       "      <th>2</th>\n",
       "      <td>Miles from airport</td>\n",
       "      <td>[0.02274118922069798]</td>\n",
       "    </tr>\n",
       "    <tr>\n",
       "      <th>3</th>\n",
       "      <td>Speed (IAS) in knots</td>\n",
       "      <td>[-0.1057073112788105]</td>\n",
       "    </tr>\n",
       "    <tr>\n",
       "      <th>4</th>\n",
       "      <td>Flight Month</td>\n",
       "      <td>[-0.042575630174930656]</td>\n",
       "    </tr>\n",
       "  </tbody>\n",
       "</table>\n",
       "</div>"
      ],
      "text/plain": [
       "                              0                        1\n",
       "0  Aircraft: Number of engines?   [-0.06703374193892792]\n",
       "1             Feet above ground   [-0.01209018318836889]\n",
       "2            Miles from airport    [0.02274118922069798]\n",
       "3          Speed (IAS) in knots    [-0.1057073112788105]\n",
       "4                  Flight Month  [-0.042575630174930656]"
      ]
     },
     "execution_count": 285,
     "metadata": {},
     "output_type": "execute_result"
    }
   ],
   "source": [
    "x=zip(X_train.columns, np.transpose(logreg.coef_))\n",
    "x1=pd.DataFrame(list(x))\n",
    "x1.head()"
   ]
  },
  {
   "cell_type": "code",
   "execution_count": 286,
   "metadata": {},
   "outputs": [
    {
     "data": {
      "text/html": [
       "<div>\n",
       "<style scoped>\n",
       "    .dataframe tbody tr th:only-of-type {\n",
       "        vertical-align: middle;\n",
       "    }\n",
       "\n",
       "    .dataframe tbody tr th {\n",
       "        vertical-align: top;\n",
       "    }\n",
       "\n",
       "    .dataframe thead th {\n",
       "        text-align: right;\n",
       "    }\n",
       "</style>\n",
       "<table border=\"1\" class=\"dataframe\">\n",
       "  <thead>\n",
       "    <tr style=\"text-align: right;\">\n",
       "      <th></th>\n",
       "      <th>Features</th>\n",
       "      <th>Coefficient Estimate</th>\n",
       "    </tr>\n",
       "  </thead>\n",
       "  <tbody>\n",
       "    <tr>\n",
       "      <th>7</th>\n",
       "      <td>Large</td>\n",
       "      <td>[0.5892255029221463]</td>\n",
       "    </tr>\n",
       "    <tr>\n",
       "      <th>9</th>\n",
       "      <td>Small</td>\n",
       "      <td>[-0.5197809461047227]</td>\n",
       "    </tr>\n",
       "    <tr>\n",
       "      <th>5</th>\n",
       "      <td>Flight Year</td>\n",
       "      <td>[-0.20250745423621355]</td>\n",
       "    </tr>\n",
       "    <tr>\n",
       "      <th>6</th>\n",
       "      <td>When: Time (HHMM)</td>\n",
       "      <td>[0.18586454367225985]</td>\n",
       "    </tr>\n",
       "    <tr>\n",
       "      <th>14</th>\n",
       "      <td>Landing Roll</td>\n",
       "      <td>[-0.18341304182558513]</td>\n",
       "    </tr>\n",
       "    <tr>\n",
       "      <th>11</th>\n",
       "      <td>Climb</td>\n",
       "      <td>[0.1374155007103925]</td>\n",
       "    </tr>\n",
       "    <tr>\n",
       "      <th>3</th>\n",
       "      <td>Speed (IAS) in knots</td>\n",
       "      <td>[-0.1057073112788105]</td>\n",
       "    </tr>\n",
       "    <tr>\n",
       "      <th>19</th>\n",
       "      <td>Y</td>\n",
       "      <td>[-0.09532129844781213]</td>\n",
       "    </tr>\n",
       "    <tr>\n",
       "      <th>18</th>\n",
       "      <td>N</td>\n",
       "      <td>[0.09532129844781213]</td>\n",
       "    </tr>\n",
       "    <tr>\n",
       "      <th>8</th>\n",
       "      <td>Medium</td>\n",
       "      <td>[0.0740122028050838]</td>\n",
       "    </tr>\n",
       "  </tbody>\n",
       "</table>\n",
       "</div>"
      ],
      "text/plain": [
       "                Features    Coefficient Estimate\n",
       "7                  Large    [0.5892255029221463]\n",
       "9                  Small   [-0.5197809461047227]\n",
       "5            Flight Year  [-0.20250745423621355]\n",
       "6      When: Time (HHMM)   [0.18586454367225985]\n",
       "14          Landing Roll  [-0.18341304182558513]\n",
       "11                 Climb    [0.1374155007103925]\n",
       "3   Speed (IAS) in knots   [-0.1057073112788105]\n",
       "19                     Y  [-0.09532129844781213]\n",
       "18                     N   [0.09532129844781213]\n",
       "8                 Medium    [0.0740122028050838]"
      ]
     },
     "execution_count": 286,
     "metadata": {},
     "output_type": "execute_result"
    }
   ],
   "source": [
    "# get Correlation Coefficient for each feature using Logistic Regression\n",
    "logreg_df = pd.DataFrame(list(zip(X_train.columns, np.transpose(logreg.coef_))))\n",
    "logreg_df.columns = ['Features','Coefficient Estimate']\n",
    "logreg_df['sort'] = logreg_df['Coefficient Estimate'].abs()\n",
    "logreg_df.sort_values(['sort'],ascending=0).drop('sort',axis=1).head(10)"
   ]
  },
  {
   "cell_type": "markdown",
   "metadata": {},
   "source": [
    "### 6. Conclusions and Suggestions<a name=\"conclusion\"></a>\n",
    "\n",
    "1. Two-engine aircrafts are most frequently struck, but one-engine aircrafts are more prone to damage once struck. Such aircrafts should be equipped and operated with caution on this regard.\n",
    "2. Small birds are the most frequently involved in bird strikes, but medium and large birds are more damaging once involved. Airports built near migration route of medium to large-size birds should have more countermeasures in place.\n",
    "3. Bird strikes happen most often during takeoff or landing, especially the approach phase (when few countermeasures are in place), and during low altitude and low speed flights. Pilots should be informed with bird information during the approach phase if possible.\n",
    "4. Sacramento International Airport stands out as the airport with most damaging bird strikes. More information on the airport would be needed to understand the cause, e.g. bird migration routes, airport traffic, bird control measures etc.\n",
    "5. Bird strikes happen mostly between March to May, and July to October, between 5am and 1am of the next day. If resources are limited, detection and countermeasures should be optimized during such times to prevent bird strikes as much as possible.\n",
    "6. Most of the strikes do not cause damages. However, bird strikes can cost money and even human lives at times.\n",
    "7. Among the models tested, logistic regression model outperforms other models and can be chosen as a model for prediction and warning system for pilots and other operators. However, missing data is a huge issue with this data set, it would be useful to have the records as complete as possible so that a higher prediction accuracy can be achieved."
   ]
  }
 ],
 "metadata": {
  "kernelspec": {
   "display_name": "Python 3",
   "language": "python",
   "name": "python3"
  },
  "language_info": {
   "codemirror_mode": {
    "name": "ipython",
    "version": 3
   },
   "file_extension": ".py",
   "mimetype": "text/x-python",
   "name": "python",
   "nbconvert_exporter": "python",
   "pygments_lexer": "ipython3",
   "version": "3.7.3"
  }
 },
 "nbformat": 4,
 "nbformat_minor": 2
}
